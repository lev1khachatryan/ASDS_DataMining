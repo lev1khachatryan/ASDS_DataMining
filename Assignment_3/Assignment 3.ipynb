{
 "cells": [
  {
   "cell_type": "code",
   "execution_count": 6,
   "metadata": {},
   "outputs": [],
   "source": [
    "import numpy as np\n",
    "import pandas as pd\n",
    "\n",
    "import matplotlib.pyplot as plt\n",
    "\n",
    "from sklearn.model_selection import train_test_split\n",
    "\n",
    "import math\n",
    "\n",
    "import warnings\n",
    "warnings.filterwarnings(\"ignore\")"
   ]
  },
  {
   "cell_type": "markdown",
   "metadata": {},
   "source": [
    "# Data "
   ]
  },
  {
   "cell_type": "markdown",
   "metadata": {},
   "source": [
    "Please, download the data to your working folder.On the webpage you can find its description. \n",
    "\n",
    "https://archive.ics.uci.edu/ml/datasets/Iris\n"
   ]
  },
  {
   "cell_type": "code",
   "execution_count": 7,
   "metadata": {},
   "outputs": [],
   "source": [
    "iris = pd.read_csv('iris.data',header=None, names=['sepal length (cm)', 'sepal width (cm)', 'petal length (cm)', 'petal width (cm)', 'target names'])\n",
    "\n",
    "iris['target names'] = iris['target names'].map({'Iris-setosa':1, 'Iris-versicolor':0, 'Iris-virginica':0})\n",
    "\n",
    "X = iris.iloc[:, :-1]\n",
    "\n",
    "y = iris.iloc[:, -1]\n",
    "\n",
    "X = np.c_[np.ones((X.shape[0], 1)), X]\n",
    "\n",
    "y = y[:, np.newaxis]\n",
    "\n",
    "theta = np.zeros((X.shape[1], 1))\n",
    "\n",
    "del iris"
   ]
  },
  {
   "cell_type": "code",
   "execution_count": 8,
   "metadata": {},
   "outputs": [],
   "source": [
    "X_train, X_test, y_train, y_test = train_test_split(X, y, test_size=0.25, random_state=42, shuffle=True)\n",
    "\n",
    "del X, y"
   ]
  },
  {
   "cell_type": "markdown",
   "metadata": {},
   "source": [
    "# Classification"
   ]
  },
  {
   "cell_type": "markdown",
   "metadata": {},
   "source": [
    "## Logistic Regression"
   ]
  },
  {
   "cell_type": "markdown",
   "metadata": {},
   "source": [
    "### Implement the \"loss\" function for Logistic Regression "
   ]
  },
  {
   "cell_type": "code",
   "execution_count": 9,
   "metadata": {},
   "outputs": [],
   "source": [
    "sigmoid = lambda x: 1 / (1 + np.exp(-x))\n",
    "\n",
    "net_input = lambda theta, x: np.dot(x, theta)\n",
    "\n",
    "probability = lambda theta, x: sigmoid(net_input(theta, x))"
   ]
  },
  {
   "cell_type": "code",
   "execution_count": 10,
   "metadata": {},
   "outputs": [],
   "source": [
    "def loss_function(theta, x, y):\n",
    "    m = x.shape[0]\n",
    "    \n",
    "    total_loss = -(1 / m) * np.sum(\n",
    "        y * np.log(probability(theta, x)) + (1 - y) * np.log(1 - probability(theta, x))\n",
    "    )\n",
    "    \n",
    "    return total_loss"
   ]
  },
  {
   "cell_type": "markdown",
   "metadata": {},
   "source": [
    "### Implement the \"fit\" function gradient descent"
   ]
  },
  {
   "cell_type": "code",
   "execution_count": 11,
   "metadata": {},
   "outputs": [],
   "source": [
    "def gradient(theta, x, y):\n",
    "    m = x.shape[0]\n",
    "    \n",
    "    return (1 / m) * np.dot(x.T, sigmoid(net_input(theta,   x)) - y)"
   ]
  },
  {
   "cell_type": "code",
   "execution_count": 7,
   "metadata": {},
   "outputs": [],
   "source": [
    "# from scipy.optimize import fmin_tnc\n",
    "# def fit(x, y, theta):\n",
    "#     opt_weights = fmin_tnc(func=loss_function, x0=theta,\n",
    "#                   fprime=gradient,args=(x, y.flatten()))\n",
    "#     return opt_weights[0]\n",
    "# parameters = fit(X_train, y_train, theta)\n",
    "# parameters"
   ]
  },
  {
   "cell_type": "code",
   "execution_count": 12,
   "metadata": {},
   "outputs": [],
   "source": [
    "def fit_gd(x, y, theta, lr = 0.01, n_iterations = 1000):\n",
    "    loss_ = []\n",
    "    \n",
    "    for _ in range(n_iterations):\n",
    "        theta -= lr * gradient(theta,x, y )\n",
    "        loss = loss_function(theta, x, y)\n",
    "        loss_.append(loss)\n",
    "        \n",
    "    return theta, loss_"
   ]
  },
  {
   "cell_type": "markdown",
   "metadata": {},
   "source": [
    "### Implement predict function"
   ]
  },
  {
   "cell_type": "code",
   "execution_count": 13,
   "metadata": {},
   "outputs": [],
   "source": [
    "def predict(x, theta, probab_threshold=0.5):\n",
    "    probab = probability(theta, x)\n",
    "    \n",
    "    predicted_classes = (probab >= probab_threshold).astype(int)\n",
    "    \n",
    "    return predicted_classes.flatten()"
   ]
  },
  {
   "cell_type": "markdown",
   "metadata": {},
   "source": [
    "### To evaluate the model, use accuracy, precision and recall metrics "
   ]
  },
  {
   "cell_type": "code",
   "execution_count": 14,
   "metadata": {},
   "outputs": [],
   "source": [
    "def accuracy(x, actual_classes, parameters):\n",
    "    predicted_classes = predict(x, parameters).flatten()\n",
    "    \n",
    "    accuracy = np.mean(predicted_classes == actual_classes)\n",
    "    \n",
    "    return accuracy * 100"
   ]
  },
  {
   "cell_type": "code",
   "execution_count": 15,
   "metadata": {},
   "outputs": [],
   "source": [
    "def confusion_matrix(predicted_classes, actual_classes):\n",
    "    TP = []\n",
    "    TN = []\n",
    "    FN = []\n",
    "    FP = []\n",
    "    \n",
    "    for i in range(len(actual_classes)):\n",
    "        TP.append(predicted_classes[i] & actual_classes[i])\n",
    "        TN.append(abs(predicted_classes[i]-1) & abs(actual_classes[i]-1))\n",
    "        FP.append(np.where(predicted_classes[i]-actual_classes[i] == 1, 1, 0))\n",
    "        FN.append(np.where(predicted_classes[i]-actual_classes[i] == -1, 1, 0))\n",
    "        \n",
    "    conf_mat = {\n",
    "        'TP': np.sum(TP),\n",
    "        'TN': np.sum(TN),\n",
    "        'FN': np.sum(FN),\n",
    "        'FP': np.sum(FP)\n",
    "    }\n",
    "    \n",
    "    return conf_mat"
   ]
  },
  {
   "cell_type": "code",
   "execution_count": 16,
   "metadata": {},
   "outputs": [],
   "source": [
    "def precision(x, actual_classes, parameters):\n",
    "    predicted_classes = predict(x, parameters).flatten()\n",
    "    \n",
    "    conf_mat = confusion_matrix(predicted_classes, actual_classes)\n",
    "    \n",
    "    prec = conf_mat['TP'] / (conf_mat['TP'] + conf_mat['FP'])\n",
    "    \n",
    "    return prec"
   ]
  },
  {
   "cell_type": "code",
   "execution_count": 17,
   "metadata": {},
   "outputs": [],
   "source": [
    "def recall(x, actual_classes, parameters):\n",
    "    predicted_classes = predict(x, parameters).flatten()\n",
    "    \n",
    "    conf_mat = confusion_matrix(predicted_classes, actual_classes)\n",
    "    \n",
    "    rc = conf_mat['TP'] / (conf_mat['TP'] + conf_mat['FN'])\n",
    "    \n",
    "    return rc"
   ]
  },
  {
   "cell_type": "markdown",
   "metadata": {},
   "source": [
    "### Choose the best learning rate"
   ]
  },
  {
   "cell_type": "code",
   "execution_count": 18,
   "metadata": {},
   "outputs": [
    {
     "name": "stdout",
     "output_type": "stream",
     "text": [
      "accuracy for 1e-10 learning rate:  60.526315789473685\n",
      "accuracy for 1e-09 learning rate:  60.526315789473685\n",
      "accuracy for 1e-08 learning rate:  60.526315789473685\n",
      "accuracy for 1e-07 learning rate:  60.526315789473685\n",
      "accuracy for 1e-06 learning rate:  60.526315789473685\n",
      "accuracy for 1e-05 learning rate:  60.526315789473685\n",
      "accuracy for 0.0001 learning rate:  60.526315789473685\n",
      "accuracy for 0.001 learning rate:  52.21606648199446\n",
      "accuracy for 0.01 learning rate:  52.21606648199446\n",
      "accuracy for 0.1 learning rate:  52.21606648199446\n",
      "accuracy for 1 learning rate:  52.21606648199446\n"
     ]
    }
   ],
   "source": [
    "learning_rates = [1e-10, 1e-9, 1e-8, 1e-7, 1e-6, 1e-5, 1e-4, 1e-3, 1e-2, 1e-1, 1]\n",
    "\n",
    "for lr in learning_rates:\n",
    "    params = fit_gd(X_train, y_train, theta, n_iterations=1000, lr=lr)[0]\n",
    "    print('accuracy for {} learning rate:  {}'.format(lr, accuracy(X_test, y_test, params)))"
   ]
  },
  {
   "cell_type": "code",
   "execution_count": 19,
   "metadata": {},
   "outputs": [],
   "source": [
    "final_params, loss_output = fit_gd(X_train, y_train, theta, n_iterations=1000, lr=0.0001 )"
   ]
  },
  {
   "cell_type": "markdown",
   "metadata": {},
   "source": [
    "### Plot loss output depending on iteration "
   ]
  },
  {
   "cell_type": "code",
   "execution_count": 20,
   "metadata": {
    "scrolled": false
   },
   "outputs": [
    {
     "data": {
      "image/png": "[encoded data removed]",
      "text/plain": [
       "<Figure size 432x288 with 1 Axes>"
      ]
     },
     "metadata": {},
     "output_type": "display_data"
    }
   ],
   "source": [
    "plt.plot(range(1, len(loss_output) + 1), loss_output, label = 'loss value')\n",
    "\n",
    "plt.xlabel('Iterations')\n",
    "\n",
    "plt.ylabel('loss')\n",
    "\n",
    "plt.title('Logistic Regression')\n",
    "\n",
    "plt.legend()\n",
    "\n",
    "plt.show();"
   ]
  },
  {
   "cell_type": "markdown",
   "metadata": {},
   "source": [
    "### Report the prediction accuracy on test data"
   ]
  },
  {
   "cell_type": "code",
   "execution_count": 21,
   "metadata": {},
   "outputs": [
    {
     "data": {
      "text/plain": [
       "52.21606648199446"
      ]
     },
     "execution_count": 21,
     "metadata": {},
     "output_type": "execute_result"
    }
   ],
   "source": [
    "accuracy(X_test, y_test, final_params)"
   ]
  },
  {
   "cell_type": "code",
   "execution_count": 22,
   "metadata": {},
   "outputs": [
    {
     "data": {
      "text/plain": [
       "1.0"
      ]
     },
     "execution_count": 22,
     "metadata": {},
     "output_type": "execute_result"
    }
   ],
   "source": [
    "precision(X_test, y_test, final_params)"
   ]
  },
  {
   "cell_type": "code",
   "execution_count": 23,
   "metadata": {},
   "outputs": [
    {
     "data": {
      "text/plain": [
       "1.0"
      ]
     },
     "execution_count": 23,
     "metadata": {},
     "output_type": "execute_result"
    }
   ],
   "source": [
    "recall(X_test, y_test, final_params)"
   ]
  },
  {
   "cell_type": "markdown",
   "metadata": {},
   "source": [
    "## K-NN classification"
   ]
  },
  {
   "cell_type": "markdown",
   "metadata": {},
   "source": [
    "### Create training/validation/test datasets with 80/10/10 ratio. Make sure that they do not overlap"
   ]
  },
  {
   "cell_type": "code",
   "execution_count": 25,
   "metadata": {},
   "outputs": [],
   "source": [
    "iris = pd.read_csv('iris.data',header=None, names=['sl', 'sw', 'pl', 'pw', 'target'])\n",
    "iris['target'] = pd.factorize(iris.target)[0]"
   ]
  },
  {
   "cell_type": "code",
   "execution_count": 26,
   "metadata": {},
   "outputs": [],
   "source": [
    "X_train, X_test, y_train, y_test = train_test_split(iris.iloc[:, :4], iris.iloc[:, 4:], test_size=0.10, random_state=42, shuffle=True)\n",
    "X_train, X_validation, y_train, y_validation = train_test_split(X_train, y_train, test_size=0.11, random_state=42, shuffle=True)"
   ]
  },
  {
   "cell_type": "code",
   "execution_count": 28,
   "metadata": {},
   "outputs": [
    {
     "name": "stdout",
     "output_type": "stream",
     "text": [
      "They don't overlap\n"
     ]
    }
   ],
   "source": [
    "if (X_train.shape[0] + X_test.shape[0] + X_validation.shape[0] == iris.iloc[:, :4].shape[0]):\n",
    "    print('They don\\'t overlap')\n",
    "else:\n",
    "    print('They overlap')"
   ]
  },
  {
   "cell_type": "markdown",
   "metadata": {},
   "source": [
    "### Implement the K-NN algorithm: create two functions, fit() - that is responsible for training and predict() - which is responsible for predicting the values for new data points\n",
    " "
   ]
  },
  {
   "cell_type": "code",
   "execution_count": 81,
   "metadata": {},
   "outputs": [],
   "source": [
    "# def euclideanDistance(instance1, instance2, length):\n",
    "#     distance = 0\n",
    "    \n",
    "#     for component in range(length):\n",
    "#         distance += (instance1[component] - instance2[component]) ** 2\n",
    "        \n",
    "#     return math.sqrt(distance)"
   ]
  },
  {
   "cell_type": "code",
   "execution_count": 82,
   "metadata": {},
   "outputs": [],
   "source": [
    "def get_classes(training_set):\n",
    "    return list(set([c[-1] for c in training_set]))\n",
    "\n",
    "\n",
    "def find_neighbors(distances, k):\n",
    "    return distances[0:k]\n",
    "\n",
    "\n",
    "def find_response(neighbors, classes):\n",
    "    votes = [0] * len(classes)\n",
    "\n",
    "    for instance in neighbors:\n",
    "        for ctr, c in enumerate(classes):\n",
    "            if instance[-2] == c:\n",
    "                votes[ctr] += 1\n",
    "\n",
    "    return max(enumerate(votes), key=itemgetter(1))"
   ]
  },
  {
   "cell_type": "code",
   "execution_count": null,
   "metadata": {},
   "outputs": [],
   "source": []
  },
  {
   "cell_type": "code",
   "execution_count": null,
   "metadata": {},
   "outputs": [],
   "source": [
    "def knn(training_set, test_set, k):\n",
    "    distances = []\n",
    "    dist = 0\n",
    "    limit = len(training_set[0]) - 1\n",
    "\n",
    "    # generate response classes from training data\n",
    "    classes = get_classes(training_set)\n",
    "\n",
    "    try:\n",
    "        for test_instance in test_set:\n",
    "            for row in training_set:\n",
    "                for x, y in zip(row[:limit], test_instance):\n",
    "                    dist += (x-y) * (x-y)\n",
    "                distances.append(row + [sqrt(dist)])\n",
    "                dist = 0\n",
    "\n",
    "            distances.sort(key=itemgetter(len(distances[0])-1))\n",
    "\n",
    "            # find k nearest neighbors\n",
    "            neighbors = find_neighbors(distances, k)\n",
    "\n",
    "            # get the class with maximum votes\n",
    "            index, value = find_response(neighbors, classes)\n",
    "\n",
    "            # Display prediction\n",
    "            print('The predicted class for sample ' + str(test_instance) + ' is : ' + classes[index])\n",
    "            print('Number of votes : ' + str(value) + ' out of ' + str(k))\n",
    "\n",
    "            # empty the distance list\n",
    "            distances.clear()\n",
    "\n",
    "    except Exception as e:\n",
    "        print(e)"
   ]
  },
  {
   "cell_type": "code",
   "execution_count": null,
   "metadata": {},
   "outputs": [],
   "source": []
  },
  {
   "cell_type": "markdown",
   "metadata": {},
   "source": [
    "### For evaluation we will use \"accuracy\" metric - implement it :)"
   ]
  },
  {
   "cell_type": "code",
   "execution_count": null,
   "metadata": {},
   "outputs": [],
   "source": []
  },
  {
   "cell_type": "code",
   "execution_count": null,
   "metadata": {},
   "outputs": [],
   "source": []
  },
  {
   "cell_type": "markdown",
   "metadata": {},
   "source": [
    "### Choose the best \"k\" value and report the accuracy for all k-values you have tried on validation data"
   ]
  },
  {
   "cell_type": "code",
   "execution_count": null,
   "metadata": {},
   "outputs": [],
   "source": []
  },
  {
   "cell_type": "code",
   "execution_count": null,
   "metadata": {},
   "outputs": [],
   "source": []
  },
  {
   "cell_type": "markdown",
   "metadata": {},
   "source": [
    "### Report the accuracy for the best value of k on test data"
   ]
  },
  {
   "cell_type": "code",
   "execution_count": null,
   "metadata": {},
   "outputs": [],
   "source": []
  },
  {
   "cell_type": "code",
   "execution_count": null,
   "metadata": {},
   "outputs": [],
   "source": []
  },
  {
   "cell_type": "code",
   "execution_count": null,
   "metadata": {},
   "outputs": [],
   "source": []
  }
 ],
 "metadata": {
  "kernelspec": {
   "display_name": "Python 3",
   "language": "python",
   "name": "python3"
  },
  "language_info": {
   "codemirror_mode": {
    "name": "ipython",
    "version": 3
   },
   "file_extension": ".py",
   "mimetype": "text/x-python",
   "name": "python",
   "nbconvert_exporter": "python",
   "pygments_lexer": "ipython3",
   "version": "3.6.5"
  }
 },
 "nbformat": 4,
 "nbformat_minor": 2
}
