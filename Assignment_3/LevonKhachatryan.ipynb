{
 "cells": [
  {
   "cell_type": "code",
   "execution_count": 1,
   "metadata": {},
   "outputs": [],
   "source": [
    "import numpy as np\n",
    "import pandas as pd\n",
    "\n",
    "import matplotlib.pyplot as plt\n",
    "\n",
    "from sklearn.model_selection import train_test_split\n",
    "\n",
    "import operator\n",
    "\n",
    "import math\n",
    "\n",
    "import warnings\n",
    "warnings.filterwarnings(\"ignore\")"
   ]
  },
  {
   "cell_type": "markdown",
   "metadata": {},
   "source": [
    "# Data "
   ]
  },
  {
   "cell_type": "markdown",
   "metadata": {},
   "source": [
    "Please, download the data to your working folder.On the webpage you can find its description. \n",
    "\n",
    "https://archive.ics.uci.edu/ml/datasets/Iris\n"
   ]
  },
  {
   "cell_type": "code",
   "execution_count": 2,
   "metadata": {},
   "outputs": [],
   "source": [
    "# iris = pd.read_csv('iris.data',header=None, names=['sepal length (cm)', 'sepal width (cm)', 'petal length (cm)', 'petal width (cm)', 'target names'])\n",
    "iris = pd.read_csv('iris.data',header=None, names=['sl', 'sw', 'pl', 'pw', 'target'])\n",
    "\n",
    "\n",
    "iris['target'] = iris['target'].map({'Iris-setosa':1, 'Iris-versicolor':0, 'Iris-virginica':0})\n",
    "\n",
    "X = iris.iloc[:, :-1]\n",
    "\n",
    "y = iris.iloc[:, -1]\n",
    "\n",
    "X = np.c_[np.ones((X.shape[0], 1)), X]\n",
    "\n",
    "# y = y[:, np.newaxis]\n",
    "\n",
    "theta = np.zeros((X.shape[1], 1))\n",
    "\n",
    "del iris"
   ]
  },
  {
   "cell_type": "code",
   "execution_count": 3,
   "metadata": {},
   "outputs": [],
   "source": [
    "X_train, X_test, y_train, y_test = train_test_split(X, y, test_size=0.10, random_state=42, shuffle=True)\n",
    "X_train, X_validation, y_train, y_validation = train_test_split(X_train, y_train, test_size=0.11, random_state=42, shuffle=True)\n",
    "del X, y"
   ]
  },
  {
   "cell_type": "markdown",
   "metadata": {},
   "source": [
    "# Classification"
   ]
  },
  {
   "cell_type": "markdown",
   "metadata": {},
   "source": [
    "## Logistic Regression"
   ]
  },
  {
   "cell_type": "markdown",
   "metadata": {},
   "source": [
    "### Implement the \"loss\" function for Logistic Regression "
   ]
  },
  {
   "cell_type": "code",
   "execution_count": 4,
   "metadata": {},
   "outputs": [],
   "source": [
    "sigmoid = lambda x: 1 / (1 + np.exp(-x))\n",
    "\n",
    "net_input = lambda theta, x: np.dot(x, theta)\n",
    "\n",
    "probability = lambda theta, x: sigmoid(net_input(theta, x))"
   ]
  },
  {
   "cell_type": "code",
   "execution_count": 5,
   "metadata": {},
   "outputs": [],
   "source": [
    "def loss_function(theta, x, y):\n",
    "    \"\"\" \n",
    "    Loss function implementation. \n",
    "  \n",
    "    This function uses some of above implemented functions. \n",
    "  \n",
    "    Parameters: \n",
    "    theta (array): Initial theta, which i choose all zeros\n",
    "    x (DataFrame): features\n",
    "    y (DataFrame): labels\n",
    "  \n",
    "    Returns: \n",
    "    float: total loss value \n",
    "  \n",
    "    \"\"\"\n",
    "    \n",
    "    \n",
    "    m = x.shape[0]\n",
    "    \n",
    "    total_loss = -(1 / m) * np.sum(\n",
    "        y * np.log(probability(theta, x)) + (1 - y) * np.log(1 - probability(theta, x))\n",
    "    )\n",
    "    \n",
    "    return total_loss"
   ]
  },
  {
   "cell_type": "markdown",
   "metadata": {},
   "source": [
    "### Implement the \"fit\" function gradient descent"
   ]
  },
  {
   "cell_type": "code",
   "execution_count": 7,
   "metadata": {},
   "outputs": [],
   "source": [
    "# from scipy.optimize import fmin_tnc\n",
    "# def fit(x, y, theta):\n",
    "#     opt_weights = fmin_tnc(func=loss_function, x0=theta,\n",
    "#                   fprime=gradient,args=(x, y.flatten()))\n",
    "#     return opt_weights[0]\n",
    "# parameters = fit(X_train, y_train, theta)\n",
    "# parameters"
   ]
  },
  {
   "cell_type": "code",
   "execution_count": 8,
   "metadata": {},
   "outputs": [],
   "source": [
    "def fit_gd(x, y, theta, lr = 0.01, n_iterations = 1000):\n",
    "    \"\"\" \n",
    "    Fit function implementation. \n",
    "  \n",
    "    This function minimize the loss value by gradient descent. \n",
    "  \n",
    "    Parameters: \n",
    "    theta (array): Initial theta, which i choose all zeros\n",
    "    x (DataFrame): features\n",
    "    y (DataFrame): labels\n",
    "    lr (float) : learning rate\n",
    "    n_iterations (int): number of iterations, steps of gradient descent\n",
    "  \n",
    "    Returns: \n",
    "    float: total loss value \n",
    "    array: fitted parameters\n",
    "  \n",
    "    \"\"\"\n",
    "    \n",
    "    \n",
    "    def gradient(theta, x, y):\n",
    "        m = x.shape[0]\n",
    "\n",
    "        return (1 / m) * np.dot(x.T, sigmoid(net_input(theta,   x)) - y)\n",
    "\n",
    "    \n",
    "    loss_ = []\n",
    "    y = y[:, np.newaxis]\n",
    "    \n",
    "    for _ in range(n_iterations):\n",
    "        theta -= lr * gradient(theta,x, y )\n",
    "        loss = loss_function(theta, x, y)\n",
    "        loss_.append(loss)\n",
    "        \n",
    "    return theta, loss_"
   ]
  },
  {
   "cell_type": "markdown",
   "metadata": {},
   "source": [
    "### Implement predict function"
   ]
  },
  {
   "cell_type": "code",
   "execution_count": 9,
   "metadata": {},
   "outputs": [],
   "source": [
    "def predict(x, theta, probab_threshold=0.5):\n",
    "    \"\"\" \n",
    "    Predict function implementation. \n",
    "  \n",
    "    This function does the prediction. \n",
    "  \n",
    "    Parameters: \n",
    "    theta (array): Initial theta, which i choose all zeros\n",
    "    x (DataFrame): features\n",
    "    probab_thresgold (float): from 0 to 1 float value for probability threshold\n",
    "  \n",
    "    Returns: \n",
    "    DataFrame: Predicted classes\n",
    "  \n",
    "    \"\"\"\n",
    "    \n",
    "    \n",
    "    probab = probability(theta, x)\n",
    "    \n",
    "    predicted_classes = (probab >= probab_threshold).astype(int)\n",
    "    \n",
    "    return predicted_classes.flatten()"
   ]
  },
  {
   "cell_type": "markdown",
   "metadata": {},
   "source": [
    "### To evaluate the model, use accuracy, precision and recall metrics "
   ]
  },
  {
   "cell_type": "code",
   "execution_count": 10,
   "metadata": {},
   "outputs": [],
   "source": [
    "def accuracy(predicted_classes, actual_classes):\n",
    "    \"\"\" \n",
    "    Accuracy function implementation. \n",
    "  \n",
    "    This function calculates the accuracy of prediction. \n",
    "  \n",
    "    Parameters: \n",
    "    predicted_classes (DataFrame): predicted classes\n",
    "    actual_classes (DataFrame): real labels of dataset\n",
    "  \n",
    "    Returns: \n",
    "    float: the percentage of accuracy\n",
    "  \n",
    "    \"\"\"\n",
    "    \n",
    "    \n",
    "    accuracy = np.mean(predicted_classes == actual_classes)\n",
    "    \n",
    "    return accuracy * 100"
   ]
  },
  {
   "cell_type": "code",
   "execution_count": 11,
   "metadata": {},
   "outputs": [],
   "source": [
    "def confusion_matrix(predicted_classes, actual_classes):\n",
    "    \"\"\" \n",
    "    Confusion matrix implementation. \n",
    "  \n",
    "    This function will be used in precision and recall calculation. \n",
    "  \n",
    "    Parameters: \n",
    "    predicted_classes (DataFrame): predicted classes\n",
    "    actual_classes (DataFrame): real labels of dataset\n",
    "  \n",
    "    Returns: \n",
    "    dictionary: confusion matrix\n",
    "  \n",
    "    \"\"\"\n",
    "    \n",
    "    \n",
    "    TP = []\n",
    "    TN = []\n",
    "    FN = []\n",
    "    FP = []\n",
    "    \n",
    "#     actual_classes = actual_classes[:, np.newaxis].flatten()\n",
    "    actual_classes = actual_classes.values\n",
    "    \n",
    "    for i in range(len(actual_classes)):\n",
    "        TP.append(predicted_classes[i] & actual_classes[i])\n",
    "        TN.append(abs(predicted_classes[i]-1) & abs(actual_classes[i]-1))\n",
    "        FP.append(np.where(predicted_classes[i]-actual_classes[i] == 1, 1, 0))\n",
    "        FN.append(np.where(predicted_classes[i]-actual_classes[i] == -1, 1, 0))\n",
    "        \n",
    "    conf_mat = {\n",
    "        'TP': float(np.sum(TP)),\n",
    "        'TN': float(np.sum(TN)),\n",
    "        'FN': float(np.sum(FN)),\n",
    "        'FP': float(np.sum(FP))\n",
    "    }\n",
    "    \n",
    "    return conf_mat"
   ]
  },
  {
   "cell_type": "code",
   "execution_count": 12,
   "metadata": {},
   "outputs": [],
   "source": [
    "def precision(predicted_classes, actual_classes):\n",
    "    \"\"\" \n",
    "    Precision function implementation. \n",
    "  \n",
    "    This function calculates the precision of predictions by TP / TP + FP. \n",
    "  \n",
    "    Parameters: \n",
    "    predicted_classes (DataFrame): predicted classes\n",
    "    actual_classes (DataFrame): real labels of dataset\n",
    "  \n",
    "    Returns: \n",
    "    float: precision\n",
    "  \n",
    "    \"\"\"\n",
    "    \n",
    "    \n",
    "    conf_mat = confusion_matrix(predicted_classes, actual_classes)\n",
    "    \n",
    "    prec = conf_mat['TP'] / np.where(conf_mat['TP'] + conf_mat['FP'] == 0.0, 1, conf_mat['TP'] + conf_mat['FP'])\n",
    "    \n",
    "    return prec"
   ]
  },
  {
   "cell_type": "code",
   "execution_count": 13,
   "metadata": {},
   "outputs": [],
   "source": [
    "def recall(predicted_classes, actual_classes):\n",
    "    \"\"\" \n",
    "    Recall function implementation. \n",
    "  \n",
    "    This function calculates the recall of predictions by TP / TP + FN. \n",
    "  \n",
    "    Parameters: \n",
    "    predicted_classes (DataFrame): predicted classes\n",
    "    actual_classes (DataFrame): real labels of dataset\n",
    "  \n",
    "    Returns: \n",
    "    float: recall\n",
    "  \n",
    "    \"\"\"\n",
    "    \n",
    "    \n",
    "    conf_mat = confusion_matrix(predicted_classes, actual_classes)\n",
    "    \n",
    "    rc = conf_mat['TP'] / np.where(conf_mat['TP'] + conf_mat['FN'] == 0.0, 1, conf_mat['TP'] + conf_mat['FN'] )\n",
    "    \n",
    "    return rc"
   ]
  },
  {
   "cell_type": "markdown",
   "metadata": {},
   "source": [
    "### Choose the best learning rate"
   ]
  },
  {
   "cell_type": "code",
   "execution_count": 14,
   "metadata": {},
   "outputs": [
    {
     "name": "stdout",
     "output_type": "stream",
     "text": [
      "accuracy, precision and recall for 1e-10 learning rate:  73.33333333333333%, 0.0, 0.0\n",
      "accuracy, precision and recall for 1e-09 learning rate:  73.33333333333333%, 0.0, 0.0\n",
      "accuracy, precision and recall for 1e-08 learning rate:  73.33333333333333%, 0.0, 0.0\n",
      "accuracy, precision and recall for 1e-07 learning rate:  73.33333333333333%, 0.0, 0.0\n",
      "accuracy, precision and recall for 1e-06 learning rate:  73.33333333333333%, 0.0, 0.0\n",
      "accuracy, precision and recall for 1e-05 learning rate:  73.33333333333333%, 0.0, 0.0\n",
      "accuracy, precision and recall for 0.0001 learning rate:  73.33333333333333%, 0.0, 0.0\n",
      "accuracy, precision and recall for 0.001 learning rate:  100.0%, 1.0, 1.0\n",
      "accuracy, precision and recall for 0.01 learning rate:  100.0%, 1.0, 1.0\n",
      "accuracy, precision and recall for 0.1 learning rate:  100.0%, 1.0, 1.0\n",
      "accuracy, precision and recall for 1 learning rate:  100.0%, 1.0, 1.0\n"
     ]
    }
   ],
   "source": [
    "learning_rates = [1e-10, 1e-9, 1e-8, 1e-7, 1e-6, 1e-5, 1e-4, 1e-3, 1e-2, 1e-1, 1]\n",
    "\n",
    "# theta = np.zeros((X_train.shape[1], 1))\n",
    "\n",
    "for lr in learning_rates:\n",
    "    theta = np.zeros((X_train.shape[1], 1))\n",
    "    \n",
    "    fitted_parameters = fit_gd(X_train, y_train, theta, n_iterations=1000, lr=lr)[0]\n",
    "\n",
    "    predicted_classes = predict(X_validation, fitted_parameters)\n",
    "    \n",
    "    print('accuracy, precision and recall for {} learning rate:  {}%, {}, {}'.format(lr, accuracy(predicted_classes, y_validation), precision(predicted_classes, y_validation), recall(predicted_classes, y_validation)))"
   ]
  },
  {
   "cell_type": "code",
   "execution_count": 15,
   "metadata": {},
   "outputs": [],
   "source": [
    "theta = np.zeros((X_train.shape[1], 1))\n",
    "final_params, loss_output = fit_gd(X_train, y_train, theta, n_iterations=1000, lr=0.001 )"
   ]
  },
  {
   "cell_type": "markdown",
   "metadata": {},
   "source": [
    "### Plot loss output depending on iteration "
   ]
  },
  {
   "cell_type": "code",
   "execution_count": 16,
   "metadata": {
    "scrolled": false
   },
   "outputs": [
    {
     "data": {
      "image/png": "[encoded data removed]",
      "text/plain": [
       "<Figure size 432x288 with 1 Axes>"
      ]
     },
     "metadata": {
      "needs_background": "light"
     },
     "output_type": "display_data"
    }
   ],
   "source": [
    "plt.plot(range(1, len(loss_output) + 1), loss_output, label = 'loss value')\n",
    "\n",
    "plt.xlabel('Iterations')\n",
    "\n",
    "plt.ylabel('loss')\n",
    "\n",
    "plt.title('Logistic Regression')\n",
    "\n",
    "plt.legend()\n",
    "\n",
    "plt.show();"
   ]
  },
  {
   "cell_type": "markdown",
   "metadata": {},
   "source": [
    "### Report the prediction accuracy on test data"
   ]
  },
  {
   "cell_type": "code",
   "execution_count": 17,
   "metadata": {},
   "outputs": [],
   "source": [
    "predicted_classes = predict(X_test, final_params)"
   ]
  },
  {
   "cell_type": "code",
   "execution_count": 18,
   "metadata": {},
   "outputs": [
    {
     "data": {
      "text/plain": [
       "100.0"
      ]
     },
     "execution_count": 18,
     "metadata": {},
     "output_type": "execute_result"
    }
   ],
   "source": [
    "accuracy(predicted_classes, y_test)"
   ]
  },
  {
   "cell_type": "code",
   "execution_count": 19,
   "metadata": {},
   "outputs": [
    {
     "data": {
      "text/plain": [
       "1.0"
      ]
     },
     "execution_count": 19,
     "metadata": {},
     "output_type": "execute_result"
    }
   ],
   "source": [
    "precision(predicted_classes, y_test)"
   ]
  },
  {
   "cell_type": "code",
   "execution_count": 20,
   "metadata": {},
   "outputs": [
    {
     "data": {
      "text/plain": [
       "1.0"
      ]
     },
     "execution_count": 20,
     "metadata": {},
     "output_type": "execute_result"
    }
   ],
   "source": [
    "recall(predicted_classes, y_test)"
   ]
  },
  {
   "cell_type": "markdown",
   "metadata": {},
   "source": [
    "## K-NN classification"
   ]
  },
  {
   "cell_type": "markdown",
   "metadata": {},
   "source": [
    "### Create training/validation/test datasets with 80/10/10 ratio. Make sure that they do not overlap"
   ]
  },
  {
   "cell_type": "code",
   "execution_count": 21,
   "metadata": {},
   "outputs": [],
   "source": [
    "iris = pd.read_csv('iris.data',header=None, names=['sl', 'sw', 'pl', 'pw', 'target'])\n",
    "iris['target'] = pd.factorize(iris.target)[0]"
   ]
  },
  {
   "cell_type": "code",
   "execution_count": 22,
   "metadata": {},
   "outputs": [],
   "source": [
    "X_train, X_test, y_train, y_test = train_test_split(iris.iloc[:, :4], iris.iloc[:, 4:], test_size=0.10, random_state=42, shuffle=True)\n",
    "X_train, X_validation, y_train, y_validation = train_test_split(X_train, y_train, test_size=0.11, random_state=42, shuffle=True)"
   ]
  },
  {
   "cell_type": "code",
   "execution_count": 23,
   "metadata": {},
   "outputs": [
    {
     "name": "stdout",
     "output_type": "stream",
     "text": [
      "They don't overlap\n"
     ]
    }
   ],
   "source": [
    "if (X_train.shape[0] + X_test.shape[0] + X_validation.shape[0] == iris.iloc[:, :4].shape[0]):\n",
    "    print('They don\\'t overlap')\n",
    "else:\n",
    "    print('They overlap')"
   ]
  },
  {
   "cell_type": "markdown",
   "metadata": {},
   "source": [
    "### Implement the K-NN algorithm: create two functions, fit() - that is responsible for training and predict() - which is responsible for predicting the values for new data points\n",
    " "
   ]
  },
  {
   "cell_type": "code",
   "execution_count": 24,
   "metadata": {},
   "outputs": [],
   "source": [
    "def fit_knn(X_train, X_to_predict, k = 3):\n",
    "    \"\"\" \n",
    "    Fit function implementation. \n",
    "  \n",
    "    This is the fit function of KNN algorithm which uses euclidean distance as distance metric \n",
    "  \n",
    "    Parameters: \n",
    "    X_train (DataFrame): train dataset\n",
    "    X_to_predict (DataFrame): the dataset for which we want to do prediction\n",
    "  \n",
    "    Returns: \n",
    "    dictionary: k neighbours for each object of X_to_pedict dataset\n",
    "  \n",
    "    \"\"\"\n",
    "    \n",
    "    \n",
    "    def euclidean_distance(sample1, sample2, length):\n",
    "        distance = 0\n",
    "\n",
    "        for x in range(length):\n",
    "            distance += (sample1[x] - sample2[x]) ** 2\n",
    "\n",
    "        return math.sqrt(distance)\n",
    "    \n",
    "    def get_index_of_neighbours(training_set, test_instance, k):\n",
    "        distances = []\n",
    "\n",
    "        length = len(test_instance) - 1\n",
    "\n",
    "        for idx in range(len(training_set)):\n",
    "            dist = euclidean_distance(test_instance,training_set[idx : idx + 1].values[0], length)\n",
    "\n",
    "            distances.append((training_set[idx : idx + 1].index.values.astype(int)[0], dist))\n",
    "\n",
    "        distances.sort(key = operator.itemgetter(1))\n",
    "\n",
    "        neighbors = []\n",
    "\n",
    "        for x in range(k):\n",
    "            neighbors.append(distances[x][0])\n",
    "\n",
    "        return neighbors\n",
    "\n",
    "\n",
    "    neighbours = {}\n",
    "    \n",
    "    for test_instance_index in range(len(X_to_predict)):\n",
    "        test_instance = X_to_predict[test_instance_index : test_instance_index + 1]\n",
    "        \n",
    "        neighbours[test_instance.index.values.astype(int)[0]] = (get_index_of_neighbours(X_train, test_instance.values[0], k))\n",
    "        \n",
    "    return neighbours"
   ]
  },
  {
   "cell_type": "code",
   "execution_count": 25,
   "metadata": {},
   "outputs": [],
   "source": [
    "def prediction_knn(fitted_neighbours):\n",
    "    \"\"\" \n",
    "    Prediction function implementation. \n",
    "  \n",
    "    This function does prediction of X_to_Predict dataset's objects \n",
    "  \n",
    "    Parameters: \n",
    "    fitted_neighbours: This is the result of fit_knn function which is a dictionary consisting of index as a key and neighbours as a value\n",
    "  \n",
    "    Returns: \n",
    "    DataFrame: predicted classes of each element\n",
    "  \n",
    "    \"\"\"\n",
    "    \n",
    "    \n",
    "    def prediction_specific_row(index_of_neighbours):\n",
    "        neighbours_classes = []\n",
    "\n",
    "        for row_index in index_of_neighbours:\n",
    "            neighbours_classes.append(y_train.loc[row_index, :][0])\n",
    "\n",
    "        return neighbours_classes\n",
    "    def find_class(neighbors):\n",
    "        votes = {}\n",
    "\n",
    "        for clas in range(len(neighbors)):\n",
    "            if neighbors[clas] in votes:\n",
    "                votes[neighbors[clas]] += 1\n",
    "            else:\n",
    "                votes[neighbors[clas]] = 1\n",
    "\n",
    "        sorted_votes = sorted(votes.items(), key = operator.itemgetter(1), reverse = True)\n",
    "\n",
    "        return sorted_votes[0][0]\n",
    "    \n",
    "    \n",
    "    neighbours_classes = {}\n",
    "    \n",
    "    for index_of_row_prediction, neighbours in fitted_neighbours.items():\n",
    "        neighbours_classes[index_of_row_prediction] = prediction_specific_row(neighbours)\n",
    "    \n",
    "    index = []\n",
    "    predicted_classes = []\n",
    "    \n",
    "    for index_of_row_prediction, classes_of_neighbours in neighbours_classes.items():\n",
    "        index.append(index_of_row_prediction)\n",
    "        predicted_classes.append(find_class(classes_of_neighbours))\n",
    "        \n",
    "    prediction_df = pd.DataFrame(predicted_classes, index=index, columns=['prediction'])\n",
    "    \n",
    "    return prediction_df"
   ]
  },
  {
   "cell_type": "markdown",
   "metadata": {},
   "source": [
    "### For evaluation we will use \"accuracy\" metric - implement it :)"
   ]
  },
  {
   "cell_type": "code",
   "execution_count": 26,
   "metadata": {},
   "outputs": [],
   "source": [
    "def accuracy(actual, predicted):\n",
    "    \"\"\" \n",
    "    Accuracy function implementation. \n",
    "  \n",
    "    This function calculates the accuracy of prediction \n",
    "  \n",
    "    Parameters: \n",
    "    actual (DataFrame): labels\n",
    "    predicted (DataFrame): this is the result of prediction function\n",
    "  \n",
    "    Returns: \n",
    "    float: this is the percentage of prediction accuracy\n",
    "  \n",
    "    \"\"\"\n",
    "    \n",
    "    \n",
    "    correct = 0\n",
    "    \n",
    "    for row_number in range (len(actual)):\n",
    "        if actual.values[row_number][0] == predicted.values[row_number][0]:\n",
    "            correct += 1\n",
    "            \n",
    "    return (correct/float(len(actual))) * 100.0"
   ]
  },
  {
   "cell_type": "markdown",
   "metadata": {},
   "source": [
    "### Choose the best \"k\" value and report the accuracy for all k-values you have tried on validation data"
   ]
  },
  {
   "cell_type": "code",
   "execution_count": 27,
   "metadata": {},
   "outputs": [
    {
     "name": "stdout",
     "output_type": "stream",
     "text": [
      "accuracy for k = 1 is equal to 100.0 %\n",
      "accuracy for k = 2 is equal to 100.0 %\n",
      "accuracy for k = 3 is equal to 93.3 %\n",
      "accuracy for k = 4 is equal to 93.3 %\n",
      "accuracy for k = 5 is equal to 93.3 %\n",
      "accuracy for k = 6 is equal to 100.0 %\n",
      "accuracy for k = 7 is equal to 100.0 %\n",
      "accuracy for k = 8 is equal to 100.0 %\n",
      "accuracy for k = 9 is equal to 100.0 %\n",
      "accuracy for k = 10 is equal to 100.0 %\n"
     ]
    }
   ],
   "source": [
    "K = [1,2,3,4,5,6,7,8,9,10]\n",
    "\n",
    "for k in K:\n",
    "    model = fit_knn(X_train, X_validation, k)\n",
    "    \n",
    "    predict_validation = prediction_knn(model)\n",
    "    \n",
    "    accuracy_validation = accuracy(y_validation, predict_validation)\n",
    "    \n",
    "    print('accuracy for k = {} is equal to {} %'.format(k, round(accuracy_validation, 1)))"
   ]
  },
  {
   "cell_type": "markdown",
   "metadata": {},
   "source": [
    "Considering that a small value of k means that noise will have a greater impact on the result, and a large value will make it computationally expensive, I will choose k = 6 as the best value for k"
   ]
  },
  {
   "cell_type": "markdown",
   "metadata": {},
   "source": [
    "### Report the accuracy for the best value of k on test data"
   ]
  },
  {
   "cell_type": "code",
   "execution_count": 28,
   "metadata": {},
   "outputs": [
    {
     "name": "stdout",
     "output_type": "stream",
     "text": [
      "accuracy on the test data is equal to 80.0 %\n"
     ]
    }
   ],
   "source": [
    "model = fit_knn(X_train, X_test, 6)\n",
    "    \n",
    "predict_test = prediction_knn(model)\n",
    "    \n",
    "accuracy_test = accuracy(y_test, predict_test)\n",
    "    \n",
    "print('accuracy on the test data is equal to {} %'.format(round(accuracy_test, 3)))"
   ]
  }
 ],
 "metadata": {
  "kernelspec": {
   "display_name": "Python 3",
   "language": "python",
   "name": "python3"
  },
  "language_info": {
   "codemirror_mode": {
    "name": "ipython",
    "version": 3
   },
   "file_extension": ".py",
   "mimetype": "text/x-python",
   "name": "python",
   "nbconvert_exporter": "python",
   "pygments_lexer": "ipython3",
   "version": "3.7.3"
  }
 },
 "nbformat": 4,
 "nbformat_minor": 2
}
