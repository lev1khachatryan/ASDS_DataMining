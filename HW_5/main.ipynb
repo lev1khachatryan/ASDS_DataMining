{
 "cells": [
  {
   "cell_type": "markdown",
   "metadata": {},
   "source": [
    "# Theoretical Questions"
   ]
  },
  {
   "cell_type": "markdown",
   "metadata": {},
   "source": [
    "# 1) What is elasticity\n",
    "In economics, elasticity is the measurement of how an economic variable responds to a change in another.\n",
    "\n",
    "Elasticity indicates responsiveness. In mathematics, x-elasticity of y measures the responsiveness/fractional change of y with respect to x, i.e. how much y changes fractionally when x changes fractionally.\n",
    "\n",
    "x-elasticity of y:  \n",
    "<img src='https://wikimedia.org/api/rest_v1/media/math/render/svg/9a41b50ebd916a37be70895c815af6c210510923'>"
   ]
  },
  {
   "cell_type": "markdown",
   "metadata": {},
   "source": [
    "# 2) Significance of correlation coefficient\n",
    "The correlation coefficient, r, tells us about the strength of the linear relationship between x and y. However, the reliability of the linear model also depends on how many observed data points are in the sample. We need to look at both the value of the correlation coefficient r and the sample size n, together.\n",
    "\n",
    "We perform a hypothesis test of the \"significance of the correlation coefficient\" to decide whether the linear relationship in the sample data is strong enough to use to model the relationship in the population.\n",
    "\n",
    "The sample data is used to computer r, the correlation coefficient for the sample. If we had data for the entire population, we could find the population correlation coefficient. But because we only have sample data, we can not calculate the population correlation coefficient. The sample correlation coefficient, r, is our estimate of the unknown population correlation coefficien.\n",
    "\n",
    "The symbol for the population correlation coefficient is ρ, the Greek letter \"rho\".\n",
    "\n",
    "ρ = population correlation coefficient (unknown)\n",
    "\n",
    "r = sample correlation coefficient (known; calculated from sample data)\n",
    "\n",
    "The hypothesis test lets us decide whether the value of the population correlation coefficient ρ is \"close to 0\" or \"significantly different from 0\". We decide this based on the sample correlation coefficient r and the sample size n.\n",
    "\n",
    "If the test concludes that the correlation coefficient is significantly different from 0, we say that the correlation coefficient is \"significant\".\n",
    "\n",
    "**Conclusion:**  \n",
    "1) \"There is sufficient evidence to conclude that there is a significant linear relationship between x and y because the correlation coefficient is significantly different from 0.\"\n",
    "\n",
    "2) What the conclusion means: There is a significant linear relationship between x and y. We can use the regression line to model the linear relationship between x and y in the population.\n",
    "\n",
    "If the test concludes that the correlation coefficient is not significantly different from 0 (it is close to 0), we say that correlation coefficient is \"not significant\".\n",
    "\n",
    "**Conclusion:**  \n",
    "1) \"There is insufficient evidence to conclude that there is a significant linear relationship between x and y because the correlation coefficient is not significantly different from 0.\"  \n",
    "\n",
    "2) What the conclusion means: There is not a significant linear relationship between x and y. Therefore we can NOT use the regression line to model a linear relationship between x and y in the population.\n",
    "\n",
    "\n",
    "     If r is significant and the scatter plot shows a linear trend, the line can be used to predict the value of y for values of x that are within the domain of observed x values.\n",
    "     \n",
    "    If r is not significant OR if the scatter plot does not show a linear trend, the line should not be used for prediction.\n",
    "\n",
    "\n",
    "So the Hypothes is the following:\n",
    "\n",
    "Ho : ρ = 0  \n",
    "H1 : ρ <> 0\n",
    "\n",
    "\n",
    "**DRAWING A CONCLUSION:**\n",
    "\n",
    "There are two methods to make the decision. Both methods are equivalent and give the same result.\n",
    "\n",
    "Method 1: Using the p-value\n",
    "\n",
    "Method 2: Using a table of critical values\n",
    "\n",
    "Calculation Notes:\n",
    "\n",
    "You will use technology to calculate the p-value. The following describe the calculations to compute the test statistics and the p-value:\n",
    "\n",
    "The p-value is calculated using a t-distribution with n − 2 degrees of freedom.\n"
   ]
  },
  {
   "cell_type": "markdown",
   "metadata": {},
   "source": [
    "# 3) What is information gain\n",
    "Information gain (IG) measures how much “information” a feature gives us about the class.\n"
   ]
  },
  {
   "cell_type": "markdown",
   "metadata": {},
   "source": [
    "# 4) What is feature importance in Python\n",
    "I want to share my personal experience with this.\n",
    "\n",
    "I prepared a model by selecting all the features and I got an accuracy of around 65% which is not pretty good for a predictive model and after doing some feature selection and feature engineering without doing any logical changes in my model code my accuracy jumped to 81% which is quite impressive.\n",
    "\n",
    "**Feature Selection Methods:**\n",
    "\n",
    "1) Univariate Selection  \n",
    "Statistical tests can be used to select those features that have the strongest relationship with the output variable.\n",
    "\n",
    "The scikit-learn library provides the SelectKBest class that can be used with a suite of different statistical tests to select a specific number of features.  \n",
    "\n",
    "SelectKBest removes all but the k highest scoring features.\n",
    "\n",
    "2) Feature Importance  \n",
    "You can get the feature importance of each feature of your dataset by using the feature importance property of the model.  \n",
    "\n",
    "Feature importance gives you a score for each feature of your data, the higher the score more important or relevant is the feature towards your output variable.\n",
    "\n",
    "Feature importance is an inbuilt class that comes with Tree Based Classifiers, we will be using Extra Tree Classifier for extracting the top 10 features for the dataset.\n",
    "\n",
    "3) Correlation Matrix with Heatmap  \n",
    "Correlation states how the features are related to each other or the target variable.\n",
    "\n",
    "Correlation can be positive (increase in one value of feature increases the value of the target variable) or negative (increase in one value of feature decreases the value of the target variable)\n",
    "\n",
    "Heatmap makes it easy to identify which features are most related to the target variable, we will plot heatmap of correlated features using the seaborn library."
   ]
  },
  {
   "cell_type": "markdown",
   "metadata": {},
   "source": [
    "# Exercise\n",
    "Manager uses the following model:\n",
    "\n",
    "q= b1 + b2*p + b3*a + b4*a2\n",
    "\n",
    "Where:  \n",
    "q is the quantity of sales; p is the price of each unit; a is the expenses on advertisement\n",
    "\n",
    "Questions:  \n",
    "\n",
    "1) 1 unit increase in a will lead to ? unit increase in q\n",
    "\n",
    "2) What sign of coefficients do you expect\n",
    "\n",
    "3) Run OLS and estimate the coefficients. Whether the coefficients fit your expectations.\n",
    "\n",
    "4) What is the formula of Profit function if the cost price is 2 and the unit of a is 100$\n",
    "\n",
    "5) What is the optimal price, if a=280\n",
    "\n",
    "6) What is the optimal expense on advertisement, if p=6\n",
    "\n",
    "7) For what values of a and p we will have Max Profit"
   ]
  },
  {
   "cell_type": "markdown",
   "metadata": {},
   "source": []
  },
  {
   "cell_type": "markdown",
   "metadata": {},
   "source": []
  },
  {
   "cell_type": "markdown",
   "metadata": {},
   "source": []
  },
  {
   "cell_type": "markdown",
   "metadata": {},
   "source": []
  },
  {
   "cell_type": "markdown",
   "metadata": {},
   "source": []
  },
  {
   "cell_type": "markdown",
   "metadata": {},
   "source": []
  },
  {
   "cell_type": "markdown",
   "metadata": {},
   "source": []
  },
  {
   "cell_type": "markdown",
   "metadata": {},
   "source": []
  },
  {
   "cell_type": "markdown",
   "metadata": {},
   "source": []
  },
  {
   "cell_type": "markdown",
   "metadata": {},
   "source": []
  },
  {
   "cell_type": "markdown",
   "metadata": {},
   "source": []
  },
  {
   "cell_type": "markdown",
   "metadata": {},
   "source": []
  },
  {
   "cell_type": "markdown",
   "metadata": {},
   "source": []
  },
  {
   "cell_type": "markdown",
   "metadata": {},
   "source": []
  },
  {
   "cell_type": "markdown",
   "metadata": {},
   "source": []
  },
  {
   "cell_type": "markdown",
   "metadata": {},
   "source": []
  },
  {
   "cell_type": "markdown",
   "metadata": {},
   "source": []
  },
  {
   "cell_type": "markdown",
   "metadata": {},
   "source": []
  },
  {
   "cell_type": "markdown",
   "metadata": {},
   "source": []
  },
  {
   "cell_type": "markdown",
   "metadata": {},
   "source": []
  },
  {
   "cell_type": "markdown",
   "metadata": {},
   "source": []
  }
 ],
 "metadata": {
  "kernelspec": {
   "display_name": "Python 3",
   "language": "python",
   "name": "python3"
  },
  "language_info": {
   "codemirror_mode": {
    "name": "ipython",
    "version": 3
   },
   "file_extension": ".py",
   "mimetype": "text/x-python",
   "name": "python",
   "nbconvert_exporter": "python",
   "pygments_lexer": "ipython3",
   "version": "3.6.5"
  }
 },
 "nbformat": 4,
 "nbformat_minor": 2
}
