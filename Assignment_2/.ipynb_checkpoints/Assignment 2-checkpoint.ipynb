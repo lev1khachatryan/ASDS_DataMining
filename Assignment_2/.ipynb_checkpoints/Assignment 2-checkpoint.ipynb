{
 "cells": [
  {
   "cell_type": "markdown",
   "metadata": {},
   "source": [
    "# Assignment 2"
   ]
  },
  {
   "cell_type": "code",
   "execution_count": 4,
   "metadata": {},
   "outputs": [],
   "source": [
    "import numpy as np"
   ]
  },
  {
   "cell_type": "markdown",
   "metadata": {},
   "source": [
    "### Extra Task\n",
    "Implement matrix multiplication of two matrices"
   ]
  },
  {
   "cell_type": "code",
   "execution_count": 5,
   "metadata": {},
   "outputs": [
    {
     "data": {
      "text/plain": [
       "[[5, 3, 6], [2, 2, 0]]"
      ]
     },
     "execution_count": 5,
     "metadata": {},
     "output_type": "execute_result"
    }
   ],
   "source": [
    "def matrix_multiplication(a, b):\n",
    "    is_numerical_a = all(all((type(ele_a) != str) for ele_a in row_a) for row_a in a)\n",
    "    is_numerical_b = all(all((type(ele_b) != str) for ele_b in row_b) for row_b in b)\n",
    "    has_all_rows_same_lenght_a = all(len(row_a) == len(a[0]) for row_a in a)\n",
    "    has_all_rows_same_lenght_b = all(len(row_b) == len(b[0]) for row_b in b)\n",
    "    can_multiple = len(a[0]) == len(b)\n",
    "    if is_numerical_a and is_numerical_b and has_all_rows_same_lenght_a and has_all_rows_same_lenght_b and can_multiple :\n",
    "        return [[sum(ele_a*ele_b for ele_a, ele_b in zip(row_a, col_b)) for col_b in zip(*b)] for row_a in a]\n",
    "    else :\n",
    "        print (\"Please make sure you have valid matrices\")\n",
    "a = [[1,2],\n",
    "    [2, 0]]\n",
    "b = [[1,1,0],\n",
    "    [2,1,3]]\n",
    "matrix_multiplication(a, b)"
   ]
  },
  {
   "cell_type": "markdown",
   "metadata": {},
   "source": [
    "### Extra Task\n",
    "Implement Hadamard product of two matrices"
   ]
  },
  {
   "cell_type": "code",
   "execution_count": 6,
   "metadata": {},
   "outputs": [],
   "source": [
    "def matrix_to_list(data_matrix):\n",
    "    data_list = []\n",
    "    [[data_list.append(element) for element in row] for row in data_matrix]\n",
    "    return data_list"
   ]
  },
  {
   "cell_type": "code",
   "execution_count": 7,
   "metadata": {},
   "outputs": [],
   "source": [
    "def list_to_matrix(row_count, col_count, data_list):\n",
    "    data_matrix = []\n",
    "    for i in range(row_count):\n",
    "        row_list = []\n",
    "        for j in range(col_count):\n",
    "            row_list.append(data_list[row_count * i + j])\n",
    "        data_matrix.append(row_list)\n",
    "    return data_matrix"
   ]
  },
  {
   "cell_type": "code",
   "execution_count": 8,
   "metadata": {},
   "outputs": [],
   "source": [
    "def vector_hadamard(vector1 , vector2):\n",
    "    if len(vector1) == len(vector2) :\n",
    "        if all(isinstance(x, (int, float, complex )) for x in vector1) and all(isinstance(x, (int, float, complex )) for x in vector2):\n",
    "            result = np.arange(len(vector1))\n",
    "            for index in range(0, len(vector1)):\n",
    "                result[index] = vector1[index] * vector2[index]\n",
    "            return result\n",
    "        else :\n",
    "            print(\"There is a problem with elements types, the type of elements must be numeric.\")\n",
    "    else :\n",
    "        print(\"There is a problem with vectors lenghts, the lenght of vectors must be equal.\")"
   ]
  },
  {
   "cell_type": "code",
   "execution_count": 9,
   "metadata": {},
   "outputs": [
    {
     "data": {
      "text/plain": [
       "[[6, 8], [6, 6]]"
      ]
     },
     "execution_count": 9,
     "metadata": {},
     "output_type": "execute_result"
    }
   ],
   "source": [
    "def matrix_hadamard(a, b):\n",
    "    is_numerical_a = all(all((type(ele_a) != str) for ele_a in row_a) for row_a in a)\n",
    "    is_numerical_b = all(all((type(ele_b) != str) for ele_b in row_b) for row_b in b)\n",
    "    has_all_rows_same_lenght_a = all(len(row_a) == len(a[0]) for row_a in a)\n",
    "    has_all_rows_same_lenght_b = all(len(row_b) == len(b[0]) for row_b in b)\n",
    "    can_multiple = (len(a[0]) == len(b[0]) and len(a) == len(b))\n",
    "    if is_numerical_a and is_numerical_b and has_all_rows_same_lenght_a and has_all_rows_same_lenght_b and can_multiple :\n",
    "        a_list = matrix_to_list(a)\n",
    "        b_list = matrix_to_list(b)\n",
    "        result = vector_hadamard(a_list, b_list)\n",
    "        return list_to_matrix(len(a), len(a[0]), result)\n",
    "    else :\n",
    "        print (\"Please make sure you have valid matrices\")\n",
    "a = [[3,4],\n",
    "    [3, 3]]\n",
    "b = [[2,2],\n",
    "    [2,2]]\n",
    "matrix_hadamard(a, b)"
   ]
  },
  {
   "cell_type": "markdown",
   "metadata": {},
   "source": [
    "### Data "
   ]
  },
  {
   "cell_type": "code",
   "execution_count": 10,
   "metadata": {},
   "outputs": [],
   "source": [
    "import pandas as pd\n",
    "import matplotlib.pyplot as plt\n",
    "from mpl_toolkits.mplot3d import axes3d\n",
    "import seaborn as sns\n",
    "\n",
    "from sklearn.preprocessing import scale\n",
    "import sklearn.linear_model as skl_lm\n",
    "from sklearn.metrics import mean_squared_error, r2_score\n",
    "import statsmodels.api as sm\n",
    "import statsmodels.formula.api as smf\n",
    "\n",
    "%matplotlib inline\n",
    "plt.style.use('seaborn-white')\n",
    "\n",
    "import warnings\n",
    "warnings.filterwarnings('ignore')"
   ]
  },
  {
   "cell_type": "markdown",
   "metadata": {},
   "source": [
    "#### Please use HW_gender data from Assignment 1. Use the weight to predict the height of a person. You can try different variants: per gender or for overall data. Please argue why did you prefer one variant over another in the report. "
   ]
  },
  {
   "cell_type": "code",
   "execution_count": 11,
   "metadata": {
    "scrolled": false
   },
   "outputs": [
    {
     "name": "stdout",
     "output_type": "stream",
     "text": [
      "<class 'pandas.core.frame.DataFrame'>\n",
      "RangeIndex: 10000 entries, 0 to 9999\n",
      "Data columns (total 3 columns):\n",
      "Gender    10000 non-null object\n",
      "Weight    10000 non-null float64\n",
      "Height    10000 non-null float64\n",
      "dtypes: float64(2), object(1)\n",
      "memory usage: 234.5+ KB\n"
     ]
    }
   ],
   "source": [
    "data = pd.read_csv('HW_gender.csv')\n",
    "data.info()"
   ]
  },
  {
   "cell_type": "code",
   "execution_count": 12,
   "metadata": {},
   "outputs": [
    {
     "data": {
      "text/html": [
       "<div>\n",
       "<style scoped>\n",
       "    .dataframe tbody tr th:only-of-type {\n",
       "        vertical-align: middle;\n",
       "    }\n",
       "\n",
       "    .dataframe tbody tr th {\n",
       "        vertical-align: top;\n",
       "    }\n",
       "\n",
       "    .dataframe thead th {\n",
       "        text-align: right;\n",
       "    }\n",
       "</style>\n",
       "<table border=\"1\" class=\"dataframe\">\n",
       "  <thead>\n",
       "    <tr style=\"text-align: right;\">\n",
       "      <th></th>\n",
       "      <th>Gender</th>\n",
       "      <th>Weight</th>\n",
       "      <th>Height</th>\n",
       "      <th>Gender_Categorical</th>\n",
       "    </tr>\n",
       "  </thead>\n",
       "  <tbody>\n",
       "    <tr>\n",
       "      <th>0</th>\n",
       "      <td>Male</td>\n",
       "      <td>73.847017</td>\n",
       "      <td>241.893563</td>\n",
       "      <td>1</td>\n",
       "    </tr>\n",
       "    <tr>\n",
       "      <th>1</th>\n",
       "      <td>Male</td>\n",
       "      <td>68.781904</td>\n",
       "      <td>162.310473</td>\n",
       "      <td>1</td>\n",
       "    </tr>\n",
       "    <tr>\n",
       "      <th>2</th>\n",
       "      <td>Male</td>\n",
       "      <td>74.110105</td>\n",
       "      <td>212.740856</td>\n",
       "      <td>1</td>\n",
       "    </tr>\n",
       "  </tbody>\n",
       "</table>\n",
       "</div>"
      ],
      "text/plain": [
       "  Gender     Weight      Height  Gender_Categorical\n",
       "0   Male  73.847017  241.893563                   1\n",
       "1   Male  68.781904  162.310473                   1\n",
       "2   Male  74.110105  212.740856                   1"
      ]
     },
     "execution_count": 12,
     "metadata": {},
     "output_type": "execute_result"
    }
   ],
   "source": [
    "data['Gender_Categorical'] = data.Gender.map({'Female':0, 'Male':1})\n",
    "data.head(3)"
   ]
  },
  {
   "cell_type": "code",
   "execution_count": 13,
   "metadata": {
    "scrolled": true
   },
   "outputs": [
    {
     "data": {
      "image/png": "[encoded data removed]",
      "text/plain": [
       "<Figure size 432x288 with 1 Axes>"
      ]
     },
     "metadata": {},
     "output_type": "display_data"
    }
   ],
   "source": [
    "plt.scatter(x=data.Weight , y=data.Height)\n",
    "plt.title('Data relationship between weight and height')\n",
    "plt.xlabel('Weight')\n",
    "plt.ylabel('Height')\n",
    "plt.show();"
   ]
  },
  {
   "cell_type": "code",
   "execution_count": 14,
   "metadata": {},
   "outputs": [
    {
     "name": "stdout",
     "output_type": "stream",
     "text": [
      "54.2631333250971\n",
      "78.99874234638959\n"
     ]
    }
   ],
   "source": [
    "print(min(data.Weight))\n",
    "print(max(data.Weight))"
   ]
  },
  {
   "cell_type": "code",
   "execution_count": 15,
   "metadata": {
    "scrolled": true
   },
   "outputs": [
    {
     "data": {
      "image/png": "[encoded data removed]",
      "text/plain": [
       "<Figure size 432x288 with 1 Axes>"
      ]
     },
     "metadata": {},
     "output_type": "display_data"
    }
   ],
   "source": [
    "sns.regplot(data.Weight, data.Height, order=1, ci=None, scatter_kws={'color':'r', 's':9})\n",
    "plt.xlim(54,80)\n",
    "plt.ylim(ymin=0);"
   ]
  },
  {
   "cell_type": "markdown",
   "metadata": {},
   "source": [
    "From the above graph we can say that probably there is some linear relationship between Height and Weight."
   ]
  },
  {
   "cell_type": "markdown",
   "metadata": {},
   "source": [
    "## There are two main ways to perform linear regression in Python — with Statsmodels and scikit-learn"
   ]
  },
  {
   "cell_type": "markdown",
   "metadata": {},
   "source": [
    "### Linear Regression in Statsmodels\n",
    "Statsmodels is \"a Python module that provides classes and functions for the estimation of many different statistical models, as well as for conducting statistical tests, and statistical data exploration.\" (from the documentation)"
   ]
  },
  {
   "cell_type": "code",
   "execution_count": 16,
   "metadata": {
    "scrolled": true
   },
   "outputs": [
    {
     "data": {
      "text/html": [
       "<table class=\"simpletable\">\n",
       "<tr>\n",
       "      <td></td>         <th>coef</th>     <th>std err</th>      <th>t</th>      <th>P>|t|</th>  <th>[0.025</th>    <th>0.975]</th>  \n",
       "</tr>\n",
       "<tr>\n",
       "  <th>Intercept</th> <td> -350.7372</td> <td>    2.111</td> <td> -166.109</td> <td> 0.000</td> <td> -354.876</td> <td> -346.598</td>\n",
       "</tr>\n",
       "<tr>\n",
       "  <th>Weight</th>    <td>    7.7173</td> <td>    0.032</td> <td>  242.975</td> <td> 0.000</td> <td>    7.655</td> <td>    7.780</td>\n",
       "</tr>\n",
       "</table>"
      ],
      "text/plain": [
       "<class 'statsmodels.iolib.table.SimpleTable'>"
      ]
     },
     "execution_count": 16,
     "metadata": {},
     "output_type": "execute_result"
    }
   ],
   "source": [
    "est = smf.ols('Height ~ Weight', data).fit()\n",
    "est.summary().tables[1]"
   ]
  },
  {
   "cell_type": "markdown",
   "metadata": {},
   "source": [
    "### Interpreting the Table \n",
    "First we have what’s the dependent variable and the model and the method. OLS stands for Ordinary Least Squares and the method “Least Squares” means that we’re trying to fit a regression line that would minimize the square of distance from the regression line.\n",
    "\n",
    "The coefficient of 7.7173 means that as the Weight variable increases by 1, the predicted value of Height increases by 7.7173. A few other important values are the standard error (is the standard deviation of the sampling distribution of a statistic, most commonly of the mean); the t scores and p-values, for hypothesis test — the Weight has statistically significant p-value; there is a 95% confidence intervals for the Weight (meaning we predict at a 95% percent confidence that the value of Weight is between 7.655 to 7.780)."
   ]
  },
  {
   "cell_type": "markdown",
   "metadata": {},
   "source": [
    "Other important terms on linear regression models are **R-squared** and **F-statistic**"
   ]
  },
  {
   "cell_type": "code",
   "execution_count": 17,
   "metadata": {},
   "outputs": [
    {
     "data": {
      "text/html": [
       "<table class=\"simpletable\">\n",
       "<caption>OLS Regression Results</caption>\n",
       "<tr>\n",
       "  <th>Dep. Variable:</th>         <td>Height</td>      <th>  R-squared:         </th> <td>   0.855</td> \n",
       "</tr>\n",
       "<tr>\n",
       "  <th>Model:</th>                   <td>OLS</td>       <th>  Adj. R-squared:    </th> <td>   0.855</td> \n",
       "</tr>\n",
       "<tr>\n",
       "  <th>Method:</th>             <td>Least Squares</td>  <th>  F-statistic:       </th> <td>5.904e+04</td>\n",
       "</tr>\n",
       "<tr>\n",
       "  <th>Date:</th>             <td>Mon, 25 Mar 2019</td> <th>  Prob (F-statistic):</th>  <td>  0.00</td>  \n",
       "</tr>\n",
       "<tr>\n",
       "  <th>Time:</th>                 <td>23:13:05</td>     <th>  Log-Likelihood:    </th> <td> -39219.</td> \n",
       "</tr>\n",
       "<tr>\n",
       "  <th>No. Observations:</th>      <td> 10000</td>      <th>  AIC:               </th> <td>7.844e+04</td>\n",
       "</tr>\n",
       "<tr>\n",
       "  <th>Df Residuals:</th>          <td>  9998</td>      <th>  BIC:               </th> <td>7.846e+04</td>\n",
       "</tr>\n",
       "<tr>\n",
       "  <th>Df Model:</th>              <td>     1</td>      <th>                     </th>     <td> </td>    \n",
       "</tr>\n",
       "<tr>\n",
       "  <th>Covariance Type:</th>      <td>nonrobust</td>    <th>                     </th>     <td> </td>    \n",
       "</tr>\n",
       "</table>"
      ],
      "text/plain": [
       "<class 'statsmodels.iolib.table.SimpleTable'>"
      ]
     },
     "execution_count": 17,
     "metadata": {},
     "output_type": "execute_result"
    }
   ],
   "source": [
    "est.summary().tables[0]"
   ]
  },
  {
   "cell_type": "markdown",
   "metadata": {},
   "source": [
    "The hypotheses for the F-test of the overall significance are as follows:\n",
    "\n",
    "    Null hypothesis: The fit of the intercept-only model and your model are equal.\n",
    "    Alternative hypothesis: The fit of the intercept-only model is significantly reduced compared to your model.\n",
    "If the P value for the F-test of overall significance test is less than your significance level, you can reject the null-hypothesis and conclude that your model provides a better fit than the intercept-only model. In our case p value << 0.005 so we can reject null hypothesis.\n",
    "\n",
    "R-squared value — 0.855, meaning that this model explains 85.5% of the variance in our dependent variable."
   ]
  },
  {
   "cell_type": "markdown",
   "metadata": {},
   "source": [
    "**Now let’s try fitting a regression model with more than one variable — Weight and Gender. Model fitting is the same:**"
   ]
  },
  {
   "cell_type": "code",
   "execution_count": 18,
   "metadata": {
    "scrolled": false
   },
   "outputs": [
    {
     "data": {
      "text/html": [
       "<table class=\"simpletable\">\n",
       "<caption>OLS Regression Results</caption>\n",
       "<tr>\n",
       "  <th>Dep. Variable:</th>         <td>Height</td>      <th>  R-squared:         </th> <td>   0.903</td> \n",
       "</tr>\n",
       "<tr>\n",
       "  <th>Model:</th>                   <td>OLS</td>       <th>  Adj. R-squared:    </th> <td>   0.903</td> \n",
       "</tr>\n",
       "<tr>\n",
       "  <th>Method:</th>             <td>Least Squares</td>  <th>  F-statistic:       </th> <td>4.640e+04</td>\n",
       "</tr>\n",
       "<tr>\n",
       "  <th>Date:</th>             <td>Mon, 25 Mar 2019</td> <th>  Prob (F-statistic):</th>  <td>  0.00</td>  \n",
       "</tr>\n",
       "<tr>\n",
       "  <th>Time:</th>                 <td>23:13:09</td>     <th>  Log-Likelihood:    </th> <td> -37228.</td> \n",
       "</tr>\n",
       "<tr>\n",
       "  <th>No. Observations:</th>      <td> 10000</td>      <th>  AIC:               </th> <td>7.446e+04</td>\n",
       "</tr>\n",
       "<tr>\n",
       "  <th>Df Residuals:</th>          <td>  9997</td>      <th>  BIC:               </th> <td>7.448e+04</td>\n",
       "</tr>\n",
       "<tr>\n",
       "  <th>Df Model:</th>              <td>     2</td>      <th>                     </th>     <td> </td>    \n",
       "</tr>\n",
       "<tr>\n",
       "  <th>Covariance Type:</th>      <td>nonrobust</td>    <th>                     </th>     <td> </td>    \n",
       "</tr>\n",
       "</table>\n",
       "<table class=\"simpletable\">\n",
       "<tr>\n",
       "           <td></td>             <th>coef</th>     <th>std err</th>      <th>t</th>      <th>P>|t|</th>  <th>[0.025</th>    <th>0.975]</th>  \n",
       "</tr>\n",
       "<tr>\n",
       "  <th>Intercept</th>          <td> -244.9235</td> <td>    2.299</td> <td> -106.552</td> <td> 0.000</td> <td> -249.429</td> <td> -240.418</td>\n",
       "</tr>\n",
       "<tr>\n",
       "  <th>Weight</th>             <td>    5.9769</td> <td>    0.036</td> <td>  165.973</td> <td> 0.000</td> <td>    5.906</td> <td>    6.048</td>\n",
       "</tr>\n",
       "<tr>\n",
       "  <th>Gender_Categorical</th> <td>   19.3777</td> <td>    0.277</td> <td>   69.931</td> <td> 0.000</td> <td>   18.835</td> <td>   19.921</td>\n",
       "</tr>\n",
       "</table>\n",
       "<table class=\"simpletable\">\n",
       "<tr>\n",
       "  <th>Omnibus:</th>       <td> 0.464</td> <th>  Durbin-Watson:     </th> <td>   2.016</td>\n",
       "</tr>\n",
       "<tr>\n",
       "  <th>Prob(Omnibus):</th> <td> 0.793</td> <th>  Jarque-Bera (JB):  </th> <td>   0.447</td>\n",
       "</tr>\n",
       "<tr>\n",
       "  <th>Skew:</th>          <td> 0.016</td> <th>  Prob(JB):          </th> <td>   0.800</td>\n",
       "</tr>\n",
       "<tr>\n",
       "  <th>Kurtosis:</th>      <td> 3.011</td> <th>  Cond. No.          </th> <td>1.53e+03</td>\n",
       "</tr>\n",
       "</table><br/><br/>Warnings:<br/>[1] Standard Errors assume that the covariance matrix of the errors is correctly specified.<br/>[2] The condition number is large, 1.53e+03. This might indicate that there are<br/>strong multicollinearity or other numerical problems."
      ],
      "text/plain": [
       "<class 'statsmodels.iolib.summary.Summary'>\n",
       "\"\"\"\n",
       "                            OLS Regression Results                            \n",
       "==============================================================================\n",
       "Dep. Variable:                 Height   R-squared:                       0.903\n",
       "Model:                            OLS   Adj. R-squared:                  0.903\n",
       "Method:                 Least Squares   F-statistic:                 4.640e+04\n",
       "Date:                Mon, 25 Mar 2019   Prob (F-statistic):               0.00\n",
       "Time:                        23:13:09   Log-Likelihood:                -37228.\n",
       "No. Observations:               10000   AIC:                         7.446e+04\n",
       "Df Residuals:                    9997   BIC:                         7.448e+04\n",
       "Df Model:                           2                                         \n",
       "Covariance Type:            nonrobust                                         \n",
       "======================================================================================\n",
       "                         coef    std err          t      P>|t|      [0.025      0.975]\n",
       "--------------------------------------------------------------------------------------\n",
       "Intercept           -244.9235      2.299   -106.552      0.000    -249.429    -240.418\n",
       "Weight                 5.9769      0.036    165.973      0.000       5.906       6.048\n",
       "Gender_Categorical    19.3777      0.277     69.931      0.000      18.835      19.921\n",
       "==============================================================================\n",
       "Omnibus:                        0.464   Durbin-Watson:                   2.016\n",
       "Prob(Omnibus):                  0.793   Jarque-Bera (JB):                0.447\n",
       "Skew:                           0.016   Prob(JB):                        0.800\n",
       "Kurtosis:                       3.011   Cond. No.                     1.53e+03\n",
       "==============================================================================\n",
       "\n",
       "Warnings:\n",
       "[1] Standard Errors assume that the covariance matrix of the errors is correctly specified.\n",
       "[2] The condition number is large, 1.53e+03. This might indicate that there are\n",
       "strong multicollinearity or other numerical problems.\n",
       "\"\"\""
      ]
     },
     "execution_count": 18,
     "metadata": {},
     "output_type": "execute_result"
    }
   ],
   "source": [
    "est = smf.ols('Height ~ Weight + Gender_Categorical', data).fit()\n",
    "est.summary()"
   ]
  },
  {
   "cell_type": "markdown",
   "metadata": {},
   "source": [
    "### Interpreting the Output \n",
    "We can see here that this model has a much higher R-squared value — 0.903, meaning that this model explains 90.3% of the variance in our dependent variable. Whenever we add variables to a regression model, R² will be higher, but this is a pretty high R². We can see that both Weigh and Gender are statistically significant in predicting the person height value; not surprisingly."
   ]
  },
  {
   "cell_type": "markdown",
   "metadata": {},
   "source": [
    "Let us use **interruption** term in our model and see is there an synergy between predictors Weight and Gender"
   ]
  },
  {
   "cell_type": "code",
   "execution_count": 19,
   "metadata": {},
   "outputs": [
    {
     "data": {
      "text/html": [
       "<table class=\"simpletable\">\n",
       "<tr>\n",
       "              <td></td>                 <th>coef</th>     <th>std err</th>      <th>t</th>      <th>P>|t|</th>  <th>[0.025</th>    <th>0.975]</th>  \n",
       "</tr>\n",
       "<tr>\n",
       "  <th>Intercept</th>                 <td> -246.0133</td> <td>    3.350</td> <td>  -73.443</td> <td> 0.000</td> <td> -252.579</td> <td> -239.447</td>\n",
       "</tr>\n",
       "<tr>\n",
       "  <th>Weight</th>                    <td>    5.9940</td> <td>    0.053</td> <td>  114.103</td> <td> 0.000</td> <td>    5.891</td> <td>    6.097</td>\n",
       "</tr>\n",
       "<tr>\n",
       "  <th>Gender_Categorical</th>        <td>   21.5144</td> <td>    4.785</td> <td>    4.496</td> <td> 0.000</td> <td>   12.134</td> <td>   30.895</td>\n",
       "</tr>\n",
       "<tr>\n",
       "  <th>Weight:Gender_Categorical</th> <td>   -0.0323</td> <td>    0.072</td> <td>   -0.447</td> <td> 0.655</td> <td>   -0.174</td> <td>    0.109</td>\n",
       "</tr>\n",
       "</table>"
      ],
      "text/plain": [
       "<class 'statsmodels.iolib.table.SimpleTable'>"
      ]
     },
     "execution_count": 19,
     "metadata": {},
     "output_type": "execute_result"
    }
   ],
   "source": [
    "est = smf.ols('Height ~ Weight + Gender_Categorical + Weight*Gender_Categorical', data).fit()\n",
    "est.summary().tables[1]"
   ]
  },
  {
   "cell_type": "markdown",
   "metadata": {},
   "source": [
    "### Interpreting the Output \n",
    "As we can see there is no synergy between predictors because p-value for Weight*gender is equal to 0.655, which means that this predictor is not statistically significant."
   ]
  },
  {
   "cell_type": "markdown",
   "metadata": {},
   "source": [
    "### Linear Regression in SKLearn\n",
    "SKLearn is pretty much the golden standard when it comes to machine learning in Python."
   ]
  },
  {
   "cell_type": "code",
   "execution_count": 20,
   "metadata": {},
   "outputs": [],
   "source": [
    "from sklearn import linear_model"
   ]
  },
  {
   "cell_type": "code",
   "execution_count": 21,
   "metadata": {},
   "outputs": [],
   "source": [
    "lm = linear_model.LinearRegression()\n",
    "X = data[['Weight', 'Gender_Categorical']]\n",
    "# X = data[['Weight']]\n",
    "y = data['Height']\n",
    "model = lm.fit(X,y)"
   ]
  },
  {
   "cell_type": "markdown",
   "metadata": {},
   "source": [
    "The lm.fit() function fits a linear model. We want to use the model to make predictions, so we’ll use lm.predict():"
   ]
  },
  {
   "cell_type": "code",
   "execution_count": 22,
   "metadata": {},
   "outputs": [
    {
     "name": "stdout",
     "output_type": "stream",
     "text": [
      "[215.83348857 185.55960603 217.40595232 203.18605014 192.13359476]\n"
     ]
    }
   ],
   "source": [
    "predictions = lm.predict(X)\n",
    "print(predictions[0:5])"
   ]
  },
  {
   "cell_type": "code",
   "execution_count": 23,
   "metadata": {},
   "outputs": [
    {
     "data": {
      "text/plain": [
       "0.9027481729220092"
      ]
     },
     "execution_count": 23,
     "metadata": {},
     "output_type": "execute_result"
    }
   ],
   "source": [
    "lm.score(X,y)"
   ]
  },
  {
   "cell_type": "markdown",
   "metadata": {},
   "source": [
    "This is the R² score of our model, as i sad above this is the percentage of explained variance of the predictions. Next, let’s check out the coefficients and intercept:"
   ]
  },
  {
   "cell_type": "code",
   "execution_count": 24,
   "metadata": {
    "scrolled": true
   },
   "outputs": [
    {
     "name": "stdout",
     "output_type": "stream",
     "text": [
      "[ 5.97694123 19.37771052]\n",
      "-244.92350252069988\n"
     ]
    }
   ],
   "source": [
    "print(lm.coef_)\n",
    "print(lm.intercept_)"
   ]
  },
  {
   "cell_type": "code",
   "execution_count": 25,
   "metadata": {},
   "outputs": [],
   "source": [
    "# Create a coordinate grid\n",
    "Weight = np.arange(54,80)\n",
    "Gender_Categorical = np.arange(0, 2)\n",
    "\n",
    "B1, B2 = np.meshgrid(Weight, Gender_Categorical, indexing='xy')\n",
    "Z = np.zeros((Gender_Categorical.size, Weight.size))\n",
    "\n",
    "for (i,j),v in np.ndenumerate(Z):\n",
    "        Z[i,j] =(lm.intercept_ + B1[i,j]*lm.coef_[0] + B2[i,j]*lm.coef_[1])"
   ]
  },
  {
   "cell_type": "code",
   "execution_count": 26,
   "metadata": {},
   "outputs": [
    {
     "data": {
      "image/png": "[encoded data removed]",
      "text/plain": [
       "<Figure size 720x432 with 1 Axes>"
      ]
     },
     "metadata": {},
     "output_type": "display_data"
    }
   ],
   "source": [
    "# Create plot\n",
    "fig = plt.figure(figsize=(10,6))\n",
    "fig.suptitle('Regression: Height ~ Weight + Gender', fontsize=20)\n",
    "\n",
    "ax = axes3d.Axes3D(fig)\n",
    "\n",
    "ax.plot_surface(B1, B2, Z, rstride=10, cstride=5, alpha=0.4)\n",
    "ax.scatter3D(data.Weight, data.Gender_Categorical, data.Height, c='r')\n",
    "\n",
    "ax.set_xlabel('Weight')\n",
    "ax.set_xlim(54,80)\n",
    "ax.set_ylabel('Gender')\n",
    "ax.set_ylim(ymin=0)\n",
    "ax.set_zlabel('Height');"
   ]
  },
  {
   "cell_type": "code",
   "execution_count": 27,
   "metadata": {},
   "outputs": [],
   "source": [
    "# Necessary imports: \n",
    "from sklearn.model_selection import cross_val_score"
   ]
  },
  {
   "cell_type": "code",
   "execution_count": 28,
   "metadata": {},
   "outputs": [
    {
     "name": "stdout",
     "output_type": "stream",
     "text": [
      "Cross-validated scores: 0.7328066585863953\n"
     ]
    }
   ],
   "source": [
    "scores = cross_val_score(lm, X, y, cv=6)\n",
    "print (\"Cross-validated scores:\", scores.mean())"
   ]
  },
  {
   "cell_type": "code",
   "execution_count": 29,
   "metadata": {},
   "outputs": [
    {
     "name": "stdout",
     "output_type": "stream",
     "text": [
      "Cross-validated scores: 0.5715266817745311\n"
     ]
    }
   ],
   "source": [
    "lm2 = linear_model.LinearRegression()\n",
    "X = data[['Weight']]\n",
    "y = data['Height']\n",
    "print (\"Cross-validated scores:\", cross_val_score(lm, X, y, cv=6).mean())"
   ]
  },
  {
   "cell_type": "markdown",
   "metadata": {},
   "source": [
    "# Linear Regression "
   ]
  },
  {
   "cell_type": "markdown",
   "metadata": {},
   "source": [
    "### Implement \"loss\" function\n",
    " "
   ]
  },
  {
   "cell_type": "markdown",
   "metadata": {},
   "source": [
    "### Implement \"fit\" function gradient descent "
   ]
  },
  {
   "cell_type": "markdown",
   "metadata": {},
   "source": [
    "### Implement \"predict\" function "
   ]
  },
  {
   "cell_type": "markdown",
   "metadata": {},
   "source": [
    "### Depict the plot of loss over iterations\n",
    " "
   ]
  },
  {
   "cell_type": "markdown",
   "metadata": {},
   "source": [
    "### Choose the \"learning rate\" value, show the comparison to other values via loss plot\n",
    " "
   ]
  },
  {
   "cell_type": "markdown",
   "metadata": {},
   "source": [
    "### Plot the regression line you have found\n",
    " "
   ]
  },
  {
   "cell_type": "code",
   "execution_count": 30,
   "metadata": {},
   "outputs": [],
   "source": [
    "class LinearRegressionUsingGD:\n",
    "    \"\"\"Linear Regression Using Gradient Descent.\n",
    "\n",
    "    Parameters\n",
    "    ----------\n",
    "    eta : float\n",
    "        Learning rate\n",
    "    n_iterations : int\n",
    "        No of passes over the training set\n",
    "\n",
    "    Attributes\n",
    "    ----------\n",
    "    w_ : weights/ after fitting the model\n",
    "    cost_ : total error of the model after each iteration\n",
    "\n",
    "    \"\"\"\n",
    "\n",
    "    def __init__(self, eta=0.05, n_iterations=1000):\n",
    "        self.eta = eta\n",
    "        self.n_iterations = n_iterations\n",
    "\n",
    "    def fit(self, x, y):\n",
    "        \"\"\"Fit the training data\n",
    "\n",
    "        Parameters\n",
    "        ----------\n",
    "        x : array-like, shape = [n_samples, n_features]\n",
    "            Training samples\n",
    "        y : array-like, shape = [n_samples, n_target_values]\n",
    "            Target values\n",
    "\n",
    "        Returns\n",
    "        -------\n",
    "        self : object\n",
    "\n",
    "        \"\"\"\n",
    "\n",
    "        self.cost_ = []\n",
    "        self.w_ = np.zeros((x.shape[1], 1))\n",
    "        m = x.shape[0]\n",
    "        \n",
    "        # https://stackoverflow.com/questions/20735406/vectorization-of-a-gradient-descent-code\n",
    "        for _ in range(self.n_iterations):\n",
    "            y_pred = np.dot(x, self.w_)\n",
    "            residuals = y_pred - y\n",
    "            gradient_vector = np.dot(x.T, residuals)\n",
    "            self.w_ -= (self.eta / m) * gradient_vector\n",
    "            cost = np.sum((residuals ** 2)) / (2 * m)\n",
    "            self.cost_.append(cost)\n",
    "        return self\n",
    "\n",
    "    def predict(self, x):\n",
    "        \"\"\" Predicts the value after the model has been trained.\n",
    "\n",
    "        Parameters\n",
    "        ----------\n",
    "        x : array-like, shape = [n_samples, n_features]\n",
    "            Test samples\n",
    "\n",
    "        Returns\n",
    "        -------\n",
    "        Predicted value\n",
    "\n",
    "        \"\"\"\n",
    "        return np.dot(x, self.w_)"
   ]
  },
  {
   "cell_type": "code",
   "execution_count": 31,
   "metadata": {},
   "outputs": [],
   "source": [
    "class PerformanceMetrics:\n",
    "    \"\"\"Defines methods to evaluate the model\n",
    "\n",
    "    Parameters\n",
    "    ----------\n",
    "    y_actual : array-like, shape = [n_samples]\n",
    "            Observed values from the training samples\n",
    "    y_predicted : array-like, shape = [n_samples]\n",
    "            Predicted values from the model\n",
    "\n",
    "    \"\"\"\n",
    "\n",
    "    def __init__(self, y_actual, y_predicted):\n",
    "        self.y_actual = y_actual\n",
    "        self.y_predicted = y_predicted\n",
    "        self.lenght = len(y_actual)\n",
    "\n",
    "    def compute_rmse(self):\n",
    "        \"\"\"Compute the root mean squared error\n",
    "\n",
    "        Returns\n",
    "        ------\n",
    "        rmse : root mean squared error\n",
    "\n",
    "        \"\"\"\n",
    "        return np.sqrt(np.sum((self.y_actual - self.y_predicted) ** 2) / 2*self.lenght)\n",
    "\n",
    "    def compute_r2_score(self):\n",
    "        \"\"\"Compute the r-squared score\n",
    "\n",
    "\n",
    "            Returns\n",
    "            ------\n",
    "            r2_score : r-squared score\n",
    "\n",
    "            \"\"\"\n",
    "        # sum of square of residuals\n",
    "        ssr = self.sum_of_square_of_residuals()\n",
    "\n",
    "        # total sum of errors\n",
    "        sst = np.sum((self.y_actual - np.mean(self.y_actual)) ** 2)\n",
    "\n",
    "        return 1 - (ssr / sst)\n",
    "\n",
    "    def sum_of_square_of_residuals(self):\n",
    "        return np.sum((self.y_actual - self.y_predicted) ** 2)\n"
   ]
  },
  {
   "cell_type": "code",
   "execution_count": 32,
   "metadata": {},
   "outputs": [],
   "source": [
    "import matplotlib.pyplot as plt\n",
    "\n",
    "def scatter_plot(x, y, size=10, x_label='x', y_label='y', color='b'):\n",
    "    plt.scatter(x, y, s=size, color=color)\n",
    "    set_labels(x_label, y_label)\n",
    "\n",
    "\n",
    "def plot(x, y, x_label='x', y_label='y', color='r'):\n",
    "    plt.plot(x, y, color=color)\n",
    "    set_labels(x_label, y_label)\n",
    "\n",
    "\n",
    "def ploty(y, x_label='x', y_label='y'):\n",
    "    plt.plot(y)\n",
    "    set_labels(x_label, y_label)\n",
    "\n",
    "\n",
    "def set_labels(x_label, y_label):\n",
    "    plt.xlabel(x_label)\n",
    "    plt.ylabel(y_label)\n",
    "    plt.show()\n"
   ]
  },
  {
   "cell_type": "code",
   "execution_count": 33,
   "metadata": {},
   "outputs": [
    {
     "data": {
      "image/png": "[encoded data removed]",
      "text/plain": [
       "<Figure size 432x288 with 1 Axes>"
      ]
     },
     "metadata": {},
     "output_type": "display_data"
    },
    {
     "data": {
      "image/png": "[encoded data removed]",
      "text/plain": [
       "<Figure size 432x288 with 1 Axes>"
      ]
     },
     "metadata": {},
     "output_type": "display_data"
    },
    {
     "data": {
      "image/png": "[encoded data removed]",
      "text/plain": [
       "<Figure size 432x288 with 1 Axes>"
      ]
     },
     "metadata": {},
     "output_type": "display_data"
    },
    {
     "name": "stdout",
     "output_type": "stream",
     "text": [
      "The coefficient is [2.89114079]\n",
      "The intercept is [2.58109277]\n",
      "Root mean squared error of the model is 19.545718641877727.\n",
      "R-squared score is 0.9036464134445802.\n"
     ]
    }
   ],
   "source": [
    "linear_regression_model = LinearRegressionUsingGD()\n",
    "\n",
    "# data = pd.read_csv('HW_gender.csv')\n",
    "# x = np.array(data[\"Weight\"])\n",
    "# y = np.array(data[\"Height\"])\n",
    "# x = np.array([[elem] for elem in x])\n",
    "# y = np.array([[elem] for elem in y])\n",
    "\n",
    "np.random.seed(0)\n",
    "x = np.random.rand(100, 1)\n",
    "y = 2 + 3 * x + np.random.rand(100, 1)\n",
    "\n",
    "# transform the feature vectors to include the bias term\n",
    "# adding 1 to all the instances of the training set.\n",
    "m = x.shape[0]\n",
    "x_train = np.c_[np.ones((m, 1)), x]\n",
    "\n",
    "# fit/train the model\n",
    "linear_regression_model.fit(x_train, y)\n",
    "\n",
    "# predict values\n",
    "predicted_values = linear_regression_model.predict(x_train)\n",
    "\n",
    "# model parameters\n",
    "# print(linear_regression_model.w_)\n",
    "intercept, coeffs = linear_regression_model.w_\n",
    "\n",
    "# cost_function\n",
    "cost_function = linear_regression_model.cost_\n",
    "\n",
    "# plotting\n",
    "scatter_plot(x, y)\n",
    "plot(x, predicted_values)\n",
    "ploty(cost_function, 'no of iterations', 'cost function')\n",
    "# print(cost_function)\n",
    "\n",
    "# computing metrics\n",
    "metrics = PerformanceMetrics(y, predicted_values)\n",
    "rmse = metrics.compute_rmse()\n",
    "r2_score = metrics.compute_r2_score()\n",
    "\n",
    "print('The coefficient is {}'.format(coeffs))\n",
    "print('The intercept is {}'.format(intercept))\n",
    "print('Root mean squared error of the model is {}.'.format(rmse))\n",
    "print('R-squared score is {}.'.format(r2_score))"
   ]
  }
 ],
 "metadata": {
  "kernelspec": {
   "display_name": "Python 3",
   "language": "python",
   "name": "python3"
  },
  "language_info": {
   "codemirror_mode": {
    "name": "ipython",
    "version": 3
   },
   "file_extension": ".py",
   "mimetype": "text/x-python",
   "name": "python",
   "nbconvert_exporter": "python",
   "pygments_lexer": "ipython3",
   "version": "3.6.5"
  }
 },
 "nbformat": 4,
 "nbformat_minor": 2
}
