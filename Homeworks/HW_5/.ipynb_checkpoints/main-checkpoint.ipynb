{
 "cells": [
  {
   "cell_type": "markdown",
   "metadata": {},
   "source": [
    "# Theoretical Questions"
   ]
  },
  {
   "cell_type": "markdown",
   "metadata": {},
   "source": [
    "# 1) What is elasticity\n",
    "In economics, elasticity is the measurement of how an economic variable responds to a change in another.\n",
    "\n",
    "Elasticity indicates responsiveness. In mathematics, x-elasticity of y measures the responsiveness/fractional change of y with respect to x, i.e. how much y changes fractionally when x changes fractionally.\n",
    "\n",
    "x-elasticity of y:  \n",
    "<img src='https://wikimedia.org/api/rest_v1/media/math/render/svg/9a41b50ebd916a37be70895c815af6c210510923'>"
   ]
  },
  {
   "cell_type": "markdown",
   "metadata": {},
   "source": [
    "# 2) Significance of correlation coefficient\n",
    "The correlation coefficient, r, tells us about the strength of the linear relationship between x and y. However, the reliability of the linear model also depends on how many observed data points are in the sample. We need to look at both the value of the correlation coefficient r and the sample size n, together.\n",
    "\n",
    "We perform a hypothesis test of the \"significance of the correlation coefficient\" to decide whether the linear relationship in the sample data is strong enough to use to model the relationship in the population.\n",
    "\n",
    "The sample data is used to computer r, the correlation coefficient for the sample. If we had data for the entire population, we could find the population correlation coefficient. But because we only have sample data, we can not calculate the population correlation coefficient. The sample correlation coefficient, r, is our estimate of the unknown population correlation coefficien.\n",
    "\n",
    "The symbol for the population correlation coefficient is ρ, the Greek letter \"rho\".\n",
    "\n",
    "ρ = population correlation coefficient (unknown)\n",
    "\n",
    "r = sample correlation coefficient (known; calculated from sample data)\n",
    "\n",
    "The hypothesis test lets us decide whether the value of the population correlation coefficient ρ is \"close to 0\" or \"significantly different from 0\". We decide this based on the sample correlation coefficient r and the sample size n.\n",
    "\n",
    "If the test concludes that the correlation coefficient is significantly different from 0, we say that the correlation coefficient is \"significant\".\n",
    "\n",
    "**Conclusion:**  \n",
    "1) \"There is sufficient evidence to conclude that there is a significant linear relationship between x and y because the correlation coefficient is significantly different from 0.\"\n",
    "\n",
    "2) What the conclusion means: There is a significant linear relationship between x and y. We can use the regression line to model the linear relationship between x and y in the population.\n",
    "\n",
    "If the test concludes that the correlation coefficient is not significantly different from 0 (it is close to 0), we say that correlation coefficient is \"not significant\".\n",
    "\n",
    "**Conclusion:**  \n",
    "1) \"There is insufficient evidence to conclude that there is a significant linear relationship between x and y because the correlation coefficient is not significantly different from 0.\"  \n",
    "\n",
    "2) What the conclusion means: There is not a significant linear relationship between x and y. Therefore we can NOT use the regression line to model a linear relationship between x and y in the population.\n",
    "\n",
    "\n",
    "     If r is significant and the scatter plot shows a linear trend, the line can be used to predict the value of y for values of x that are within the domain of observed x values.\n",
    "     \n",
    "    If r is not significant OR if the scatter plot does not show a linear trend, the line should not be used for prediction.\n",
    "\n",
    "\n",
    "So the Hypothes is the following:\n",
    "\n",
    "Ho : ρ = 0  \n",
    "H1 : ρ <> 0\n",
    "\n",
    "\n",
    "**DRAWING A CONCLUSION:**\n",
    "\n",
    "There are two methods to make the decision. Both methods are equivalent and give the same result.\n",
    "\n",
    "Method 1: Using the p-value\n",
    "\n",
    "Method 2: Using a table of critical values\n",
    "\n",
    "Calculation Notes:\n",
    "\n",
    "You will use technology to calculate the p-value. The following describe the calculations to compute the test statistics and the p-value:\n",
    "\n",
    "The p-value is calculated using a t-distribution with n − 2 degrees of freedom.\n"
   ]
  },
  {
   "cell_type": "markdown",
   "metadata": {},
   "source": [
    "# 3) What is information gain\n",
    "Information gain (IG) measures how much “information” a feature gives us about the class.\n"
   ]
  },
  {
   "cell_type": "markdown",
   "metadata": {},
   "source": [
    "# 4) What is feature importance in Python\n",
    "I want to share my personal experience with this.\n",
    "\n",
    "I prepared a model by selecting all the features and I got an accuracy of around 65% which is not pretty good for a predictive model and after doing some feature selection and feature engineering without doing any logical changes in my model code my accuracy jumped to 81% which is quite impressive.\n",
    "\n",
    "**Feature Selection Methods:**\n",
    "\n",
    "1) Univariate Selection  \n",
    "Statistical tests can be used to select those features that have the strongest relationship with the output variable.\n",
    "\n",
    "The scikit-learn library provides the SelectKBest class that can be used with a suite of different statistical tests to select a specific number of features.  \n",
    "\n",
    "SelectKBest removes all but the k highest scoring features.\n",
    "\n",
    "2) Feature Importance  \n",
    "You can get the feature importance of each feature of your dataset by using the feature importance property of the model.  \n",
    "\n",
    "Feature importance gives you a score for each feature of your data, the higher the score more important or relevant is the feature towards your output variable.\n",
    "\n",
    "Feature importance is an inbuilt class that comes with Tree Based Classifiers, we will be using Extra Tree Classifier for extracting the top 10 features for the dataset.\n",
    "\n",
    "3) Correlation Matrix with Heatmap  \n",
    "Correlation states how the features are related to each other or the target variable.\n",
    "\n",
    "Correlation can be positive (increase in one value of feature increases the value of the target variable) or negative (increase in one value of feature decreases the value of the target variable)\n",
    "\n",
    "Heatmap makes it easy to identify which features are most related to the target variable, we will plot heatmap of correlated features using the seaborn library."
   ]
  },
  {
   "cell_type": "markdown",
   "metadata": {},
   "source": [
    "# Exercise\n",
    "Manager uses the following model:\n",
    "\n",
    "q= b1 + b2*p + b3*a + b4*a2\n",
    "\n",
    "Where:  \n",
    "q is the quantity of sales; p is the price of each unit; a is the expenses on advertisement\n",
    "\n",
    "Questions:  \n",
    "\n",
    "1) 1 unit increase in a will lead to ? unit increase in q\n",
    "\n",
    "2) What sign of coefficients do you expect\n",
    "\n",
    "3) Run OLS and estimate the coefficients. Whether the coefficients fit your expectations.\n",
    "\n",
    "4) What is the formula of Profit function if the cost price is 2 and the unit of a is 100$\n",
    "\n",
    "5) What is the optimal price, if a=280\n",
    "\n",
    "6) What is the optimal expense on advertisement, if p=6\n",
    "\n",
    "7) For what values of a and p we will have Max Profit"
   ]
  },
  {
   "cell_type": "code",
   "execution_count": 1,
   "metadata": {},
   "outputs": [],
   "source": [
    "import pandas as pd\n",
    "import numpy as np"
   ]
  },
  {
   "cell_type": "code",
   "execution_count": 2,
   "metadata": {},
   "outputs": [],
   "source": [
    "df = {\n",
    "    'q': [525, 567, 396, 726, 265, 615, 370, 789, 513, 661, 407, 608, 399, 631, 545, 512, 845, 571, 539, 620],\n",
    "    'p': [5.92, 6.5, 6.54, 6.11, 6.62, 5.15, 5.02, 5.02, 6.77, 5.57, 6.67, 6.92, 6.97, 6.59, 6.5, 6.86, 5.09, 6.08, 6.36, 6.22],\n",
    "    'a': [4.79, 3.61, 5.49, 2.78, 5.74, 1.34, 5.81, 3.39, 3.74, 3.59, 5.19, 3.27, 4.69, 3.79, 4.29, 2.71, 2.21, 3.09, 4.65, 1.97]\n",
    "}"
   ]
  },
  {
   "cell_type": "code",
   "execution_count": 3,
   "metadata": {},
   "outputs": [],
   "source": [
    "df = pd.DataFrame(data=df)"
   ]
  },
  {
   "cell_type": "code",
   "execution_count": 6,
   "metadata": {},
   "outputs": [],
   "source": [
    "import statsmodels.api as sm\n",
    "import statsmodels.formula.api as smf"
   ]
  },
  {
   "cell_type": "code",
   "execution_count": 18,
   "metadata": {},
   "outputs": [],
   "source": [
    "df['a2'] = df[['a']] ** 2"
   ]
  },
  {
   "cell_type": "code",
   "execution_count": 16,
   "metadata": {},
   "outputs": [],
   "source": [
    "# y = df[['q']]\n",
    "# X = df[['p', 'a']]"
   ]
  },
  {
   "cell_type": "code",
   "execution_count": 19,
   "metadata": {},
   "outputs": [],
   "source": [
    "model = smf.ols(data=df, formula='q~ p + a + a2').fit()"
   ]
  },
  {
   "cell_type": "code",
   "execution_count": 20,
   "metadata": {},
   "outputs": [
    {
     "name": "stdout",
     "output_type": "stream",
     "text": [
      "                            OLS Regression Results                            \n",
      "==============================================================================\n",
      "Dep. Variable:                      q   R-squared:                       0.878\n",
      "Model:                            OLS   Adj. R-squared:                  0.855\n",
      "Method:                 Least Squares   F-statistic:                     38.32\n",
      "Date:                Sat, 13 Apr 2019   Prob (F-statistic):           1.56e-07\n",
      "Time:                        01:20:26   Log-Likelihood:                -106.16\n",
      "No. Observations:                  20   AIC:                             220.3\n",
      "Df Residuals:                      16   BIC:                             224.3\n",
      "Df Model:                           3                                         \n",
      "Covariance Type:            nonrobust                                         \n",
      "==============================================================================\n",
      "                 coef    std err          t      P>|t|      [0.025      0.975]\n",
      "------------------------------------------------------------------------------\n",
      "Intercept    957.3348    129.218      7.409      0.000     683.404    1231.265\n",
      "p           -110.1528     21.327     -5.165      0.000    -155.365     -64.941\n",
      "a            255.5294     62.225      4.107      0.001     123.619     387.440\n",
      "a2           -43.3761      8.020     -5.408      0.000     -60.378     -26.374\n",
      "==============================================================================\n",
      "Omnibus:                        0.709   Durbin-Watson:                   2.660\n",
      "Prob(Omnibus):                  0.701   Jarque-Bera (JB):                0.662\n",
      "Skew:                           0.083   Prob(JB):                        0.718\n",
      "Kurtosis:                       2.125   Cond. No.                         215.\n",
      "==============================================================================\n",
      "\n",
      "Warnings:\n",
      "[1] Standard Errors assume that the covariance matrix of the errors is correctly specified.\n"
     ]
    }
   ],
   "source": [
    "print(model.summary())"
   ]
  },
  {
   "cell_type": "code",
   "execution_count": 21,
   "metadata": {},
   "outputs": [],
   "source": [
    "import matplotlib.pyplot as plt\n",
    "import seaborn as sns"
   ]
  },
  {
   "cell_type": "code",
   "execution_count": 30,
   "metadata": {
    "scrolled": true
   },
   "outputs": [
    {
     "data": {
      "image/png": "[encoded data removed]",
      "text/plain": [
       "<Figure size 432x288 with 1 Axes>"
      ]
     },
     "metadata": {},
     "output_type": "display_data"
    }
   ],
   "source": [
    "plt.scatter(df.a, df.q, facecolors='None', edgecolors='k', alpha=.4)\n",
    "sns.regplot(df.a, df.q, ci=None, label='Linear', scatter=False, color='orange')\n",
    "sns.regplot(df.a, df.q, ci=None, label='Degree 2', order=2, scatter=False, color='lightblue')\n",
    "sns.regplot(df.a, df.q, ci=None, label='Degree 5', order=5, scatter=False, color='g')\n",
    "plt.legend()\n",
    "plt.xlim(min(df.a)-3,max(df.a)+3)\n",
    "plt.ylim(min(df.q)-50,max(df.q)+50);"
   ]
  },
  {
   "cell_type": "code",
   "execution_count": null,
   "metadata": {},
   "outputs": [],
   "source": []
  },
  {
   "cell_type": "code",
   "execution_count": 42,
   "metadata": {},
   "outputs": [],
   "source": [
    "# from sklearn import linear_model\n",
    "\n",
    "# lm = linear_model.LinearRegression()\n",
    "# X = df[['p', 'a']]\n",
    "# y = df['q']\n",
    "# model = lm.fit(X,y)"
   ]
  },
  {
   "cell_type": "code",
   "execution_count": 41,
   "metadata": {},
   "outputs": [],
   "source": [
    "# from mpl_toolkits.mplot3d import axes3d\n",
    "\n",
    "# p = np.arange(260,850)\n",
    "# a = np.arange(1, 6)\n",
    "\n",
    "# B1, B2 = np.meshgrid(p, a, indexing='xy')\n",
    "# Z = np.zeros((a.size, p.size))\n",
    "\n",
    "# for (i,j),v in np.ndenumerate(Z):\n",
    "#         Z[i,j] =(lm.intercept_ + B1[i,j]*lm.coef_[0] + B2[i,j]*lm.coef_[1])"
   ]
  },
  {
   "cell_type": "code",
   "execution_count": 40,
   "metadata": {},
   "outputs": [],
   "source": [
    "# # Create plot\n",
    "# fig = plt.figure(figsize=(10,6))\n",
    "# fig.suptitle('Regression: q ~ p + a', fontsize=20)\n",
    "\n",
    "# ax = axes3d.Axes3D(fig)\n",
    "\n",
    "# ax.plot_surface(B1, B2, Z, rstride=10, cstride=5, alpha=0.4)\n",
    "# ax.scatter3D(df.p, df.a, df.q, c='r')\n",
    "\n",
    "# ax.set_xlabel('p')\n",
    "# ax.set_xlim(54,80)\n",
    "# ax.set_ylabel('a')\n",
    "# ax.set_ylim(ymin=0)\n",
    "# ax.set_zlabel('q');"
   ]
  }
 ],
 "metadata": {
  "kernelspec": {
   "display_name": "Python 3",
   "language": "python",
   "name": "python3"
  },
  "language_info": {
   "codemirror_mode": {
    "name": "ipython",
    "version": 3
   },
   "file_extension": ".py",
   "mimetype": "text/x-python",
   "name": "python",
   "nbconvert_exporter": "python",
   "pygments_lexer": "ipython3",
   "version": "3.6.5"
  }
 },
 "nbformat": 4,
 "nbformat_minor": 2
}
